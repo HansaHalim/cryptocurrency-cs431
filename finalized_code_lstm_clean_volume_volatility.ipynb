{
  "nbformat": 4,
  "nbformat_minor": 0,
  "metadata": {
    "colab": {
      "name": "crypto_volume_weight.ipynb",
      "provenance": [],
      "collapsed_sections": []
    },
    "kernelspec": {
      "name": "python3",
      "display_name": "Python 3"
    },
    "language_info": {
      "name": "python"
    }
  },
  "cells": [
    {
      "cell_type": "markdown",
      "source": [
        "Mount Google Drive"
      ],
      "metadata": {
        "id": "ggHQh7g6Y39w"
      }
    },
    {
      "cell_type": "code",
      "source": [
        "from google.colab import drive\n",
        "drive.mount('/content/drive')"
      ],
      "metadata": {
        "colab": {
          "base_uri": "https://localhost:8080/"
        },
        "id": "qNpWsBriY2UB",
        "outputId": "34f4c017-51b8-4fef-ab8c-a4a45a86fc93"
      },
      "execution_count": 4,
      "outputs": [
        {
          "output_type": "stream",
          "name": "stdout",
          "text": [
            "Mounted at /content/drive\n"
          ]
        }
      ]
    },
    {
      "cell_type": "markdown",
      "source": [
        "Initialize Spark"
      ],
      "metadata": {
        "id": "AUQpAP5QbqRm"
      }
    },
    {
      "cell_type": "code",
      "source": [
        "!apt-get update -qq > /dev/null\n",
        "!apt-get install openjdk-8-jdk-headless -qq > /dev/null\n",
        "!wget -q https://downloads.apache.org/spark/spark-2.4.8/spark-2.4.8-bin-hadoop2.7.tgz\n",
        "!tar xf spark-2.4.8-bin-hadoop2.7.tgz\n",
        "!pip install -q findspark"
      ],
      "metadata": {
        "id": "5js_8ZwtQqc2"
      },
      "execution_count": 1,
      "outputs": []
    },
    {
      "cell_type": "code",
      "source": [
        "import os\n",
        "os.environ[\"JAVA_HOME\"] = \"/usr/lib/jvm/java-8-openjdk-amd64\"\n",
        "os.environ[\"SPARK_HOME\"] = \"/content/spark-2.4.8-bin-hadoop2.7\"\n",
        "\n",
        "import findspark\n",
        "findspark.init()\n",
        "\n",
        "from pyspark.sql import SparkSession, functions\n",
        "import random\n",
        "\n",
        "spark = SparkSession.builder.appName(\"YourTest\").master(\"local[2]\").config('spark.ui.port', random.randrange(4000,5000)).getOrCreate()"
      ],
      "metadata": {
        "id": "vKAx0a1_QsVO"
      },
      "execution_count": 2,
      "outputs": []
    },
    {
      "cell_type": "code",
      "execution_count": 3,
      "metadata": {
        "colab": {
          "base_uri": "https://localhost:8080/"
        },
        "id": "SGTGoxSNIafT",
        "outputId": "ba4693cd-693e-478c-94fc-52ca20e1fd18"
      },
      "outputs": [
        {
          "output_type": "stream",
          "name": "stdout",
          "text": [
            "Collecting autocorrect\n",
            "  Downloading autocorrect-2.6.1.tar.gz (622 kB)\n",
            "\u001b[?25l\r\u001b[K     |▌                               | 10 kB 12.9 MB/s eta 0:00:01\r\u001b[K     |█                               | 20 kB 17.3 MB/s eta 0:00:01\r\u001b[K     |█▋                              | 30 kB 21.2 MB/s eta 0:00:01\r\u001b[K     |██                              | 40 kB 14.4 MB/s eta 0:00:01\r\u001b[K     |██▋                             | 51 kB 5.7 MB/s eta 0:00:01\r\u001b[K     |███▏                            | 61 kB 6.6 MB/s eta 0:00:01\r\u001b[K     |███▊                            | 71 kB 7.5 MB/s eta 0:00:01\r\u001b[K     |████▏                           | 81 kB 7.5 MB/s eta 0:00:01\r\u001b[K     |████▊                           | 92 kB 8.3 MB/s eta 0:00:01\r\u001b[K     |█████▎                          | 102 kB 8.6 MB/s eta 0:00:01\r\u001b[K     |█████▉                          | 112 kB 8.6 MB/s eta 0:00:01\r\u001b[K     |██████▎                         | 122 kB 8.6 MB/s eta 0:00:01\r\u001b[K     |██████▉                         | 133 kB 8.6 MB/s eta 0:00:01\r\u001b[K     |███████▍                        | 143 kB 8.6 MB/s eta 0:00:01\r\u001b[K     |████████                        | 153 kB 8.6 MB/s eta 0:00:01\r\u001b[K     |████████▍                       | 163 kB 8.6 MB/s eta 0:00:01\r\u001b[K     |█████████                       | 174 kB 8.6 MB/s eta 0:00:01\r\u001b[K     |█████████▌                      | 184 kB 8.6 MB/s eta 0:00:01\r\u001b[K     |██████████                      | 194 kB 8.6 MB/s eta 0:00:01\r\u001b[K     |██████████▌                     | 204 kB 8.6 MB/s eta 0:00:01\r\u001b[K     |███████████                     | 215 kB 8.6 MB/s eta 0:00:01\r\u001b[K     |███████████▋                    | 225 kB 8.6 MB/s eta 0:00:01\r\u001b[K     |████████████                    | 235 kB 8.6 MB/s eta 0:00:01\r\u001b[K     |████████████▋                   | 245 kB 8.6 MB/s eta 0:00:01\r\u001b[K     |█████████████▏                  | 256 kB 8.6 MB/s eta 0:00:01\r\u001b[K     |█████████████▊                  | 266 kB 8.6 MB/s eta 0:00:01\r\u001b[K     |██████████████▏                 | 276 kB 8.6 MB/s eta 0:00:01\r\u001b[K     |██████████████▊                 | 286 kB 8.6 MB/s eta 0:00:01\r\u001b[K     |███████████████▎                | 296 kB 8.6 MB/s eta 0:00:01\r\u001b[K     |███████████████▉                | 307 kB 8.6 MB/s eta 0:00:01\r\u001b[K     |████████████████▎               | 317 kB 8.6 MB/s eta 0:00:01\r\u001b[K     |████████████████▉               | 327 kB 8.6 MB/s eta 0:00:01\r\u001b[K     |█████████████████▍              | 337 kB 8.6 MB/s eta 0:00:01\r\u001b[K     |██████████████████              | 348 kB 8.6 MB/s eta 0:00:01\r\u001b[K     |██████████████████▍             | 358 kB 8.6 MB/s eta 0:00:01\r\u001b[K     |███████████████████             | 368 kB 8.6 MB/s eta 0:00:01\r\u001b[K     |███████████████████▌            | 378 kB 8.6 MB/s eta 0:00:01\r\u001b[K     |████████████████████            | 389 kB 8.6 MB/s eta 0:00:01\r\u001b[K     |████████████████████▌           | 399 kB 8.6 MB/s eta 0:00:01\r\u001b[K     |█████████████████████           | 409 kB 8.6 MB/s eta 0:00:01\r\u001b[K     |█████████████████████▋          | 419 kB 8.6 MB/s eta 0:00:01\r\u001b[K     |██████████████████████          | 430 kB 8.6 MB/s eta 0:00:01\r\u001b[K     |██████████████████████▋         | 440 kB 8.6 MB/s eta 0:00:01\r\u001b[K     |███████████████████████▏        | 450 kB 8.6 MB/s eta 0:00:01\r\u001b[K     |███████████████████████▊        | 460 kB 8.6 MB/s eta 0:00:01\r\u001b[K     |████████████████████████▏       | 471 kB 8.6 MB/s eta 0:00:01\r\u001b[K     |████████████████████████▊       | 481 kB 8.6 MB/s eta 0:00:01\r\u001b[K     |█████████████████████████▎      | 491 kB 8.6 MB/s eta 0:00:01\r\u001b[K     |█████████████████████████▉      | 501 kB 8.6 MB/s eta 0:00:01\r\u001b[K     |██████████████████████████▎     | 512 kB 8.6 MB/s eta 0:00:01\r\u001b[K     |██████████████████████████▉     | 522 kB 8.6 MB/s eta 0:00:01\r\u001b[K     |███████████████████████████▍    | 532 kB 8.6 MB/s eta 0:00:01\r\u001b[K     |███████████████████████████▉    | 542 kB 8.6 MB/s eta 0:00:01\r\u001b[K     |████████████████████████████▍   | 552 kB 8.6 MB/s eta 0:00:01\r\u001b[K     |█████████████████████████████   | 563 kB 8.6 MB/s eta 0:00:01\r\u001b[K     |█████████████████████████████▌  | 573 kB 8.6 MB/s eta 0:00:01\r\u001b[K     |██████████████████████████████  | 583 kB 8.6 MB/s eta 0:00:01\r\u001b[K     |██████████████████████████████▌ | 593 kB 8.6 MB/s eta 0:00:01\r\u001b[K     |███████████████████████████████ | 604 kB 8.6 MB/s eta 0:00:01\r\u001b[K     |███████████████████████████████▋| 614 kB 8.6 MB/s eta 0:00:01\r\u001b[K     |████████████████████████████████| 622 kB 8.6 MB/s \n",
            "\u001b[?25hBuilding wheels for collected packages: autocorrect\n",
            "  Building wheel for autocorrect (setup.py) ... \u001b[?25l\u001b[?25hdone\n",
            "  Created wheel for autocorrect: filename=autocorrect-2.6.1-py3-none-any.whl size=622382 sha256=8c7fcfee6fbe5cc5d8f0f7d1763c79de18d6cb651658901382951c61f7336f3b\n",
            "  Stored in directory: /root/.cache/pip/wheels/54/d4/37/8244101ad50b0f7d9bffd93ce58ed7991ee1753b290923934b\n",
            "Successfully built autocorrect\n",
            "Installing collected packages: autocorrect\n",
            "Successfully installed autocorrect-2.6.1\n"
          ]
        }
      ],
      "source": [
        "# Install Libraries\n",
        "!pip install autocorrect"
      ]
    },
    {
      "cell_type": "code",
      "source": [
        "import sys\n",
        "import pandas as pd\n",
        "import numpy as np\n",
        "import os\n",
        "import nltk\n",
        "import string\n",
        "from nltk.sentiment.vader import SentimentIntensityAnalyzer\n",
        "from datetime import datetime\n",
        "nltk.download('vader_lexicon')"
      ],
      "metadata": {
        "id": "cW1EwcbVIi55",
        "colab": {
          "base_uri": "https://localhost:8080/"
        },
        "outputId": "78f8cd1f-18eb-4c96-b7d7-0ade7db61371"
      },
      "execution_count": 5,
      "outputs": [
        {
          "output_type": "stream",
          "name": "stdout",
          "text": [
            "[nltk_data] Downloading package vader_lexicon to /root/nltk_data...\n"
          ]
        },
        {
          "output_type": "stream",
          "name": "stderr",
          "text": [
            "/usr/local/lib/python3.7/dist-packages/nltk/twitter/__init__.py:20: UserWarning: The twython library has not been installed. Some functionality from the twitter package will not be available.\n",
            "  warnings.warn(\"The twython library has not been installed. \"\n"
          ]
        },
        {
          "output_type": "execute_result",
          "data": {
            "text/plain": [
              "True"
            ]
          },
          "metadata": {},
          "execution_count": 5
        }
      ]
    },
    {
      "cell_type": "markdown",
      "source": [
        "Import Datasets"
      ],
      "metadata": {
        "id": "_vFJomwx17iH"
      }
    },
    {
      "cell_type": "code",
      "source": [
        "btc_prices_raw = spark.read.csv(\"/content/drive/MyDrive/BTCUSD_daily.csv\",sep=',',header=True,inferSchema=True).drop(\"unix\").drop(\"symbol\").drop(\"Volume USD\").dropna(how=\"any\")"
      ],
      "metadata": {
        "id": "vNVzdDLwQ7Dk"
      },
      "execution_count": 6,
      "outputs": []
    },
    {
      "cell_type": "code",
      "source": [
        "btc_prices_raw.printSchema()\n",
        "btc_prices_raw.show(10)"
      ],
      "metadata": {
        "colab": {
          "base_uri": "https://localhost:8080/"
        },
        "id": "xuZMW_wid8mv",
        "outputId": "e7f4d4bc-9445-434f-e276-337185a6cd3d"
      },
      "execution_count": 7,
      "outputs": [
        {
          "output_type": "stream",
          "name": "stdout",
          "text": [
            "root\n",
            " |-- date: timestamp (nullable = true)\n",
            " |-- open: double (nullable = true)\n",
            " |-- high: double (nullable = true)\n",
            " |-- low: double (nullable = true)\n",
            " |-- close: double (nullable = true)\n",
            " |-- Volume BTC: double (nullable = true)\n",
            "\n",
            "+-------------------+--------+--------+--------+--------+-------------+\n",
            "|               date|    open|    high|     low|   close|   Volume BTC|\n",
            "+-------------------+--------+--------+--------+--------+-------------+\n",
            "|2022-03-31 00:00:00|47086.07|47341.83|46993.29|47173.36|  38.14053622|\n",
            "|2022-03-30 00:00:00|47459.03|47721.41|46572.15|47068.08|1627.54321756|\n",
            "|2022-03-29 00:00:00|47152.38|48128.87|46941.84|47459.03|1716.32392308|\n",
            "|2022-03-28 00:00:00|46854.96| 48234.0|46672.25|47152.38|2691.93784761|\n",
            "|2022-03-27 00:00:00|44553.24| 46950.0| 44456.9|46864.39|1548.88890527|\n",
            "|2022-03-26 00:00:00|44340.49|44815.31| 44101.0|44535.65|  494.7242021|\n",
            "|2022-03-25 00:00:00|44025.99|45137.12|43616.88| 44320.6| 1725.0715699|\n",
            "|2022-03-24 00:00:00|42912.21| 44240.0|42636.54|44025.99|2173.30497451|\n",
            "|2022-03-23 00:00:00|42393.62|43021.73|41779.11|42925.41|1906.72354645|\n",
            "|2022-03-22 00:00:00|41018.36|43337.41|40901.13|42393.41| 2375.4246535|\n",
            "+-------------------+--------+--------+--------+--------+-------------+\n",
            "only showing top 10 rows\n",
            "\n"
          ]
        }
      ]
    },
    {
      "cell_type": "code",
      "source": [
        "tweets_raw = spark.read.csv(\"/content/drive/MyDrive/tweets.csv\",sep=';',header=True,inferSchema=True,multiLine=True).drop(\"id\").drop(\"user\").drop(\"fullname\").drop(\"url\").drop(\"replies\").drop(\"retweets\").dropna(how=\"any\")"
      ],
      "metadata": {
        "id": "ZFTkcsCsaChx"
      },
      "execution_count": 8,
      "outputs": []
    },
    {
      "cell_type": "code",
      "source": [
        "tweets_raw.printSchema()\n",
        "tweets_raw.show(10)"
      ],
      "metadata": {
        "colab": {
          "base_uri": "https://localhost:8080/"
        },
        "id": "0EBz631cdtJe",
        "outputId": "b3185ef7-cfcf-4552-9055-63f0c80599c1"
      },
      "execution_count": 9,
      "outputs": [
        {
          "output_type": "stream",
          "name": "stdout",
          "text": [
            "root\n",
            " |-- timestamp: string (nullable = true)\n",
            " |-- likes: string (nullable = true)\n",
            " |-- text\r: string (nullable = true)\n",
            "\n",
            "+--------------------+-----+-------------------------------------+\n",
            "|\n",
            "+--------------------+-----+-------------------------------------+\n",
            "|2019-05-27 11:49:...|    0|                 È appena uscito u...|\n",
            "|2019-05-27 11:49:...|    0|                 Cardano: Digitize...|\n",
            "|2019-05-27 11:49:...|    2|                 Another Test twee...|\n",
            "|2019-05-27 11:49:...|    0|                 Current Crypto Pr...|\n",
            "|2019-05-27 11:49:...|    0|                 Spiv (Nosar Baz):...|\n",
            "|2019-05-27 11:49:...|    0|                 #btc inceldiği ye...|\n",
            "|2019-05-27 11:49:...|    0|                 @nwoodfine We hav...|\n",
            "|2019-05-27 11:49:...|    0|                 @pedronauck como ...|\n",
            "|2019-05-27 11:49:...|    0|ブラジルはまぁ置いといてもドイツは...|\n",
            "|2019-05-27 11:49:...|    0|                 CHANGE IS COMING....|\n",
            "+--------------------+-----+-------------------------------------+\n",
            "only showing top 10 rows\n",
            "\n"
          ]
        }
      ]
    },
    {
      "cell_type": "code",
      "source": [
        "import string\n",
        "from pyspark.sql.functions import *\n",
        "from nltk.tokenize import RegexpTokenizer\n",
        "from nltk.stem import WordNetLemmatizer\n",
        "nltk.download('wordnet')\n",
        "nltk.download('omw')\n",
        "nltk.download('stopwords')\n",
        "nltk.download('averaged_perceptron_tagger')\n",
        "nltk.download('words')\n",
        "from nltk.corpus import wordnet\n",
        "from nltk.corpus import stopwords\n",
        "from nltk.corpus import words\n",
        "import re\n",
        "from autocorrect import Speller\n",
        "from nltk.stem import WordNetLemmatizer"
      ],
      "metadata": {
        "colab": {
          "base_uri": "https://localhost:8080/"
        },
        "id": "islb0pdNphSD",
        "outputId": "4c97fe4b-0d6e-4d47-9aa0-b2dab2025afd"
      },
      "execution_count": 10,
      "outputs": [
        {
          "output_type": "stream",
          "name": "stdout",
          "text": [
            "[nltk_data] Downloading package wordnet to /root/nltk_data...\n",
            "[nltk_data]   Unzipping corpora/wordnet.zip.\n",
            "[nltk_data] Downloading package omw to /root/nltk_data...\n",
            "[nltk_data]   Unzipping corpora/omw.zip.\n",
            "[nltk_data] Downloading package stopwords to /root/nltk_data...\n",
            "[nltk_data]   Unzipping corpora/stopwords.zip.\n",
            "[nltk_data] Downloading package averaged_perceptron_tagger to\n",
            "[nltk_data]     /root/nltk_data...\n",
            "[nltk_data]   Unzipping taggers/averaged_perceptron_tagger.zip.\n",
            "[nltk_data] Downloading package words to /root/nltk_data...\n",
            "[nltk_data]   Unzipping corpora/words.zip.\n"
          ]
        }
      ]
    },
    {
      "cell_type": "code",
      "source": [
        "tokenizer = RegexpTokenizer(r\"[\\w']+\") # tokenizer using regular expressions\n",
        "spell = Speller(lang='en')\n",
        "lemmatizer = WordNetLemmatizer() \n",
        "words = set(nltk.corpus.words.words())\n",
        "english_stopwords = set(stopwords.words(\"english\"))\n",
        "\n",
        "def simple_tokenize(s):\n",
        "    return re.findall(r\"[a-z]+(?:'[a-z]+)?\",s.lower())\n",
        "\n",
        "def get_wordnet_pos(word):\n",
        "    '''\n",
        "    get_wordnet_pos(word) Maps POS tag for word (i.e. noun, adjective etc.) to be used in \n",
        "    lemmatization function\n",
        "    get_wordnet_pos: String -> String\n",
        "    '''\n",
        "    tag = nltk.pos_tag([word])[0][1][0].upper()\n",
        "    tag_dict = {\"J\": wordnet.ADJ,\n",
        "                \"N\": wordnet.NOUN,\n",
        "                \"V\": wordnet.VERB,\n",
        "                \"R\": wordnet.ADV}\n",
        "\n",
        "    return tag_dict.get(tag, wordnet.NOUN)\n",
        "\n",
        "def regex_clean(col):\n",
        "    col = re.sub(r'http\\S+', '', col)\n",
        "    col = re.sub(r'[^a-zA-Z\\s]', '', col, flags=re.UNICODE)\n",
        "    col = re.sub(r'\\b[a-zA-Z]\\b', '', col)\n",
        "    col = re.sub(r'\\n', '', col)\n",
        "    col = re.sub(r'\\r', '', col)\n",
        "    col = re.sub(r' +', ' ', col)\n",
        "    col = re.sub(r'&amp', '', col)\n",
        "    return col\n",
        "\n",
        "def filter_minimum_like(x):\n",
        "  try:\n",
        "    likes = int(x[1])\n",
        "  except:\n",
        "    return False\n",
        "\n",
        "  if likes < 100:\n",
        "    return False\n",
        "  else:\n",
        "    return True\n",
        "\n",
        "tweets_rdd = tweets_raw.rdd\n",
        "tweets_rdd = tweets_rdd.filter(filter_minimum_like)\n",
        "tweets_rdd = tweets_rdd.map(lambda x : (x[0], x[1], str(x[2]).lower()))\n",
        "tweets_rdd = tweets_rdd.map(lambda x : (x[0], x[1], regex_clean(x[2])))\n",
        "tweets_rdd = tweets_rdd.map(lambda x : (x[0], x[1], tokenizer.tokenize(x[2])))\n",
        "tweets_rdd = tweets_rdd.map(lambda x : (x[0], x[1], [word for word in x[2] if word not in (english_stopwords)]))\n",
        "tweets_rdd = tweets_rdd.map(lambda x : (x[0], x[1], [lemmatizer.lemmatize(y, get_wordnet_pos(y)) for y in x[2]]))\n",
        "tweets_rdd = tweets_rdd.map(lambda x : (x[0], x[1], [w for w in x[2] if len(w) > 2]))\n",
        "tweets_rdd = tweets_rdd.map(lambda x : (x[0], x[1], [w for w in x[2] if w.lower() in words or not w.isalpha()]))\n",
        "tweets_rdd = tweets_rdd.filter(lambda x : len(x[2]) >= 3)\n",
        "tweets_rdd = tweets_rdd.map(lambda x : (x[0], \" \".join(x[2])))"
      ],
      "metadata": {
        "id": "BJ1lV__Eph9a"
      },
      "execution_count": 11,
      "outputs": []
    },
    {
      "cell_type": "code",
      "source": [
        "tweets_rdd.take(10)\n",
        "# When you run this block, it will fail for the first 2 times with the following error:\n",
        "#   PicklingError: args[0] from __newobj__ args has the wrong class\n",
        "#   It should work on the third try. it has something to do with stopwords not being broadcasted through all the spark nodes\n",
        "#   this is not super important to fix, running it twice and fail gives it enough time to initialize accross nodes and will\n",
        "#   work perfectly, thus it will not be fixed right now. (fix another time maybe when time allows)"
      ],
      "metadata": {
        "colab": {
          "base_uri": "https://localhost:8080/"
        },
        "id": "e5YCcwAzuPu3",
        "outputId": "125473ea-858a-435e-85d0-268e24daa4df"
      },
      "execution_count": 14,
      "outputs": [
        {
          "output_type": "execute_result",
          "data": {
            "text/plain": [
              "[('2019-05-27 08:13:06+00', 'price hit new high whats drive hypnotic rally'),\n",
              " ('2019-05-02 17:36:29+00', 'cab taxi ride ride'),\n",
              " ('2019-05-27 01:37:37+00', 'may pump bet season'),\n",
              " ('2019-05-26 20:57:45+00', 'hit high sudden parabolic swing'),\n",
              " ('2019-05-26 19:58:37+00',\n",
              "  'really gaslighting entire thread question never settle know lot try debate criticize learn improve without jerk'),\n",
              " ('2019-05-27 01:57:40+00',\n",
              "  'someone check seem come back vengeance ever since block twitter'),\n",
              " ('2019-05-27 00:02:39+00', 'keep eye prize bear get'),\n",
              " ('2019-05-27 11:33:39+00', 'new release hour ago development developer'),\n",
              " ('2019-05-27 03:29:34+00', 'thanks ruin target guy'),\n",
              " ('2019-05-27 11:18:11+00', 'bought dip breakout rally')]"
            ]
          },
          "metadata": {},
          "execution_count": 14
        }
      ]
    },
    {
      "cell_type": "code",
      "source": [
        "tweets = tweets_rdd.toDF([\"date\", \"text\"])\n",
        "tweets.printSchema()"
      ],
      "metadata": {
        "colab": {
          "base_uri": "https://localhost:8080/"
        },
        "id": "McQTWvofuQnY",
        "outputId": "f37ebc68-3251-498f-c15e-468519cd91d5"
      },
      "execution_count": 15,
      "outputs": [
        {
          "output_type": "stream",
          "name": "stdout",
          "text": [
            "root\n",
            " |-- date: string (nullable = true)\n",
            " |-- text: string (nullable = true)\n",
            "\n"
          ]
        }
      ]
    },
    {
      "cell_type": "markdown",
      "source": [
        "Convert BTC prices to percent changes"
      ],
      "metadata": {
        "id": "2_IetHuRAvA5"
      }
    },
    {
      "cell_type": "code",
      "source": [
        "def compute_percent_change(row):\n",
        "  date, open, high, low, close, volume = row\n",
        "\n",
        "  range = high - low\n",
        "  percent_change = (close - open) * 100 / open\n",
        "  \n",
        "  return (date.date(), \"%.2f\" % percent_change, range, volume)\n",
        "\n",
        "btc_daily_changes = btc_prices_raw.rdd \\\n",
        "                                  .map(compute_percent_change) \\\n",
        "                                  .toDF([\"date\",\"btc_percent_change\",\"btc_range\",\"btc_volume\"])"
      ],
      "metadata": {
        "id": "9Drd_jjgA6Rj"
      },
      "execution_count": 16,
      "outputs": []
    },
    {
      "cell_type": "code",
      "source": [
        "btc_daily_changes.createOrReplaceTempView(\"btc_daily_changes\")\n",
        "btc_daily_changes.printSchema()\n",
        "btc_daily_changes.show(10)"
      ],
      "metadata": {
        "colab": {
          "base_uri": "https://localhost:8080/"
        },
        "id": "Jsnr1E9eEy8Z",
        "outputId": "50f07fbf-fe30-4fa1-9caf-30cc6b64ea80"
      },
      "execution_count": 17,
      "outputs": [
        {
          "output_type": "stream",
          "name": "stdout",
          "text": [
            "root\n",
            " |-- date: date (nullable = true)\n",
            " |-- btc_percent_change: string (nullable = true)\n",
            " |-- btc_range: double (nullable = true)\n",
            " |-- btc_volume: double (nullable = true)\n",
            "\n",
            "+----------+------------------+------------------+-------------+\n",
            "|      date|btc_percent_change|         btc_range|   btc_volume|\n",
            "+----------+------------------+------------------+-------------+\n",
            "|2022-03-31|              0.19| 348.5400000000009|  38.14053622|\n",
            "|2022-03-30|             -0.82| 1149.260000000002|1627.54321756|\n",
            "|2022-03-29|              0.65| 1187.030000000006|1716.32392308|\n",
            "|2022-03-28|              0.63|           1561.75|2691.93784761|\n",
            "|2022-03-27|              5.19|2493.0999999999985|1548.88890527|\n",
            "|2022-03-26|              0.44| 714.3099999999977|  494.7242021|\n",
            "|2022-03-25|              0.67|1520.2400000000052| 1725.0715699|\n",
            "|2022-03-24|              2.60|1603.4599999999991|2173.30497451|\n",
            "|2022-03-23|              1.25|1242.6200000000026|1906.72354645|\n",
            "|2022-03-22|              3.35| 2436.280000000006| 2375.4246535|\n",
            "+----------+------------------+------------------+-------------+\n",
            "only showing top 10 rows\n",
            "\n"
          ]
        }
      ]
    },
    {
      "cell_type": "markdown",
      "source": [
        "Convert tweets to scores"
      ],
      "metadata": {
        "id": "uhijgZA_Aq09"
      }
    },
    {
      "cell_type": "code",
      "source": [
        "def compute_score(row):  \n",
        "  # row[1] is the text of the tweet. Please refer to the regex column above.\n",
        "  score = SentimentIntensityAnalyzer().polarity_scores(row[1])[\"compound\"]\n",
        "  if score == 0.0:\n",
        "    return []\n",
        "  \n",
        "  date = datetime.strptime(\"{}00\".format(row[0]), \"%Y-%m-%d %H:%M:%S%z\") \\\n",
        "              .date()\n",
        "\n",
        "  return [(date, score)]\n",
        "\n",
        "tweet_daily_scores = tweets.rdd \\\n",
        "                        .flatMap(compute_score) \\\n",
        "                        .toDF([\"date\",\"score\"]) \\\n",
        "                        .cache()"
      ],
      "metadata": {
        "id": "jb2bAgQMfBno"
      },
      "execution_count": 18,
      "outputs": []
    },
    {
      "cell_type": "code",
      "source": [
        "tweet_daily_scores.createOrReplaceTempView(\"tweet_daily_scores\")\n",
        "tweet_daily_scores.printSchema()\n",
        "tweet_daily_scores.show(10)"
      ],
      "metadata": {
        "colab": {
          "base_uri": "https://localhost:8080/"
        },
        "id": "mecl8tDFBcSp",
        "outputId": "e143c32e-df3b-4989-b606-dc74b960704e"
      },
      "execution_count": 19,
      "outputs": [
        {
          "output_type": "stream",
          "name": "stdout",
          "text": [
            "root\n",
            " |-- date: date (nullable = true)\n",
            " |-- score: double (nullable = true)\n",
            "\n",
            "+----------+-------+\n",
            "|      date|  score|\n",
            "+----------+-------+\n",
            "|2019-05-26| 0.3261|\n",
            "|2019-05-27|-0.4404|\n",
            "|2019-05-27| 0.5106|\n",
            "|2019-05-27|-0.2263|\n",
            "|2019-05-27| 0.4215|\n",
            "|2019-05-25| 0.7964|\n",
            "|2019-05-25|   0.91|\n",
            "|2019-05-03| 0.8442|\n",
            "|2019-05-11|-0.5216|\n",
            "|2019-05-15| 0.7964|\n",
            "+----------+-------+\n",
            "only showing top 10 rows\n",
            "\n"
          ]
        }
      ]
    },
    {
      "cell_type": "code",
      "source": [
        "lstm_movements = spark.read.csv(\"/content/drive/MyDrive/btc_lstm_forecast.csv\",sep=',',header=True,inferSchema=True)"
      ],
      "metadata": {
        "id": "FTocWup4wX2i"
      },
      "execution_count": 20,
      "outputs": []
    },
    {
      "cell_type": "code",
      "source": [
        "lstm_movements.printSchema()\n",
        "lstm_movements.show(10)"
      ],
      "metadata": {
        "colab": {
          "base_uri": "https://localhost:8080/"
        },
        "id": "4Xxr3vm9wejh",
        "outputId": "b10dbfe1-a128-440c-c0de-cae6c38907be"
      },
      "execution_count": 21,
      "outputs": [
        {
          "output_type": "stream",
          "name": "stdout",
          "text": [
            "root\n",
            " |-- Date: timestamp (nullable = true)\n",
            " |-- Forecast: double (nullable = true)\n",
            "\n",
            "+-------------------+--------+\n",
            "|               Date|Forecast|\n",
            "+-------------------+--------+\n",
            "|2014-11-28 00:00:00|     0.0|\n",
            "|2014-12-01 00:00:00|     1.0|\n",
            "|2014-12-02 00:00:00|     1.0|\n",
            "|2014-12-03 00:00:00|     1.0|\n",
            "|2014-12-04 00:00:00|     1.0|\n",
            "|2014-12-05 00:00:00|     1.0|\n",
            "|2014-12-08 00:00:00|     1.0|\n",
            "|2014-12-09 00:00:00|     1.0|\n",
            "|2014-12-10 00:00:00|     1.0|\n",
            "|2014-12-11 00:00:00|     1.0|\n",
            "+-------------------+--------+\n",
            "only showing top 10 rows\n",
            "\n"
          ]
        }
      ]
    },
    {
      "cell_type": "code",
      "source": [
        "def clean_date(row):\n",
        "  \n",
        "  date = row[0].date()\n",
        "\n",
        "  return [(date, row[1])]\n",
        "\n",
        "lstm_daily = lstm_movements.rdd \\\n",
        "                        .flatMap(clean_date) \\\n",
        "                        .toDF([\"date\",\"forecast\"]) \\\n",
        "                        .cache()"
      ],
      "metadata": {
        "id": "VOXje1aMwxWC"
      },
      "execution_count": 22,
      "outputs": []
    },
    {
      "cell_type": "code",
      "source": [
        "lstm_daily.show(10)"
      ],
      "metadata": {
        "colab": {
          "base_uri": "https://localhost:8080/"
        },
        "id": "WFAgqsy-xcpS",
        "outputId": "b8b31b92-6e9d-4c2f-cbc8-10ec206c4de7"
      },
      "execution_count": 23,
      "outputs": [
        {
          "output_type": "stream",
          "name": "stdout",
          "text": [
            "+----------+--------+\n",
            "|      date|forecast|\n",
            "+----------+--------+\n",
            "|2014-11-28|     0.0|\n",
            "|2014-12-01|     1.0|\n",
            "|2014-12-02|     1.0|\n",
            "|2014-12-03|     1.0|\n",
            "|2014-12-04|     1.0|\n",
            "|2014-12-05|     1.0|\n",
            "|2014-12-08|     1.0|\n",
            "|2014-12-09|     1.0|\n",
            "|2014-12-10|     1.0|\n",
            "|2014-12-11|     1.0|\n",
            "+----------+--------+\n",
            "only showing top 10 rows\n",
            "\n"
          ]
        }
      ]
    },
    {
      "cell_type": "markdown",
      "source": [
        "Combine BTC daily changes with tweet scores"
      ],
      "metadata": {
        "id": "nGx4_MflGMwz"
      }
    },
    {
      "cell_type": "code",
      "source": [
        "results = btc_daily_changes.join(\n",
        "      tweet_daily_scores.groupBy(\"date\").agg({\"score\": \"mean\"}),\n",
        "      on=\"date\"\n",
        "    ).withColumnRenamed(\"avg(score)\",\"twitter_sentiment\") \\\n",
        "    .withColumnRenamed(\"percent_change\",\"btc_percent_change\") \\\n",
        "    .cache()\n",
        "\n",
        "results = results.join(lstm_daily.groupBy(\"date\").agg({\"Forecast\": \"mean\"}), on=\"date\").withColumnRenamed(\"avg(Forecast)\",\"lstm_forecast\")\n",
        "\n",
        "results.printSchema()\n",
        "results.show(10)"
      ],
      "metadata": {
        "colab": {
          "base_uri": "https://localhost:8080/"
        },
        "id": "7ITdKd0pGTFW",
        "outputId": "0bab6d2c-b80a-4495-c060-606b0b091004"
      },
      "execution_count": 24,
      "outputs": [
        {
          "output_type": "stream",
          "name": "stdout",
          "text": [
            "root\n",
            " |-- date: date (nullable = true)\n",
            " |-- btc_percent_change: string (nullable = true)\n",
            " |-- btc_range: double (nullable = true)\n",
            " |-- btc_volume: double (nullable = true)\n",
            " |-- twitter_sentiment: double (nullable = true)\n",
            " |-- lstm_forecast: double (nullable = true)\n",
            "\n",
            "+----------+------------------+------------------+--------------+-------------------+-------------+\n",
            "|      date|btc_percent_change|         btc_range|    btc_volume|  twitter_sentiment|lstm_forecast|\n",
            "+----------+------------------+------------------+--------------+-------------------+-------------+\n",
            "|2019-11-22|             -4.29| 929.6999999999998|20120.14646602|0.14146783625731005|         -1.0|\n",
            "|2019-11-21|             -5.86| 722.8299999999999| 9374.99957046| 0.2574916201117318|         -1.0|\n",
            "|2019-11-20|             -0.44|203.76000000000113| 2996.00619203|0.37080331125827803|         -1.0|\n",
            "|2019-11-19|             -0.68| 208.6200000000008| 4412.39464174| 0.2568555555555556|         -1.0|\n",
            "|2019-11-18|             -3.87| 497.6999999999998| 4825.65562506| 0.3198695312500001|         -1.0|\n",
            "|2019-11-15|             -1.95|436.03000000000065| 5213.70141434|0.32181127819548855|         -1.0|\n",
            "|2019-11-14|             -1.47|236.78000000000065| 3412.80581524| 0.3597206349206349|         -1.0|\n",
            "|2019-11-13|             -0.70|139.45999999999913| 3185.82098874| 0.2978183333333334|         -1.0|\n",
            "|2019-11-12|              1.07|323.46999999999935| 4721.90610684| 0.3562176923076923|         -1.0|\n",
            "|2019-11-11|             -3.43| 482.3199999999997| 6392.97505953| 0.3385616438356163|         -1.0|\n",
            "+----------+------------------+------------------+--------------+-------------------+-------------+\n",
            "only showing top 10 rows\n",
            "\n"
          ]
        }
      ]
    },
    {
      "cell_type": "code",
      "source": [
        "results_count = results.count()\n",
        "print(\"Number of results:\", results_count)\n",
        "true_positive_count = results.filter(\n",
        "      \"(btc_percent_change < 0 and twitter_sentiment < 0) or (btc_percent_change >= 0 and twitter_sentiment >= 0)\"\n",
        "    ).count()\n",
        "print(\"Number of true positives:\", true_positive_count)\n",
        "print(\"Number of true negatives:\", results_count - true_positive_count)\n",
        "print(\"Accuracy: {}%\".format(\"%.2f\" % (true_positive_count * 100 / results_count)))"
      ],
      "metadata": {
        "colab": {
          "base_uri": "https://localhost:8080/"
        },
        "id": "gUoyG7j2nzyB",
        "outputId": "6d1d32c0-1b43-4f0e-ebec-e0e05f0725c8"
      },
      "execution_count": 25,
      "outputs": [
        {
          "output_type": "stream",
          "name": "stdout",
          "text": [
            "Number of results: 721\n",
            "Number of true positives: 455\n",
            "Number of true negatives: 266\n",
            "Accuracy: 63.11%\n"
          ]
        }
      ]
    },
    {
      "cell_type": "markdown",
      "source": [
        "Incorporate BTC volume and volatility into sentiment analysis score"
      ],
      "metadata": {
        "id": "1ThEN9WaKq6g"
      }
    },
    {
      "cell_type": "code",
      "source": [
        "avg_btc_range = btc_daily_changes.select(functions.avg(\"btc_range\")).collect()[0][0]\n",
        "max_btc_range = btc_daily_changes.select(functions.max(\"btc_range\")).collect()[0][0]\n",
        "avg_btc_volume = btc_daily_changes.select(functions.avg(\"btc_volume\")).collect()[0][0]\n",
        "max_btc_volume = btc_daily_changes.select(functions.max(\"btc_volume\")).collect()[0][0]\n",
        "\n",
        "# positive difference in range == high and low is larger than usual == more volatile == more fear == more negative sentiment\n",
        "# negative difference in range == high and low is smaller than usual == less volatile == more greed == more positive sentiment\n",
        "# positive difference in volume == more is being traded than usual == more greed == more positive sentiment\n",
        "# negative difference in volume == less is being traded than usual == more fear == more negative sentiment\n",
        "\n",
        "def combine_volume_volatility_with_sentiment(row):\n",
        "  date, btc_percent_change, btc_range, btc_volume, twitter_sentiment, lstm_forecast = row\n",
        "  return (date,\n",
        "          btc_percent_change,\n",
        "          twitter_sentiment,\n",
        "          avg_btc_range - btc_range,\n",
        "          btc_volume - avg_btc_volume, lstm_forecast)\n",
        "\n",
        "intermediate_results = results.rdd \\\n",
        "    .map(combine_volume_volatility_with_sentiment) \\\n",
        "    .toDF([\"date\",\"btc_percent_change\",\"twitter_sentiment\",\"range_diff\",\"volume_diff\", \"lstm_forecast\"])\n",
        "\n",
        "avg_twitter_sentiment = intermediate_results.select(functions.avg(\"twitter_sentiment\")).collect()[0][0]\n",
        "max_twitter_sentiment = intermediate_results.select(functions.max(\"twitter_sentiment\")).collect()[0][0]\n",
        "min_twitter_sentiment = intermediate_results.select(functions.min(\"twitter_sentiment\")).collect()[0][0]\n",
        "avg_range_diff = intermediate_results.select(functions.avg(\"range_diff\")).collect()[0][0]\n",
        "max_range_diff = intermediate_results.select(functions.max(\"range_diff\")).collect()[0][0]\n",
        "min_range_diff = intermediate_results.select(functions.min(\"range_diff\")).collect()[0][0]\n",
        "avg_volume_diff = intermediate_results.select(functions.avg(\"volume_diff\")).collect()[0][0]\n",
        "max_volume_diff = intermediate_results.select(functions.max(\"volume_diff\")).collect()[0][0]\n",
        "min_volume_diff = intermediate_results.select(functions.min(\"volume_diff\")).collect()[0][0]\n",
        "\n",
        "random_probability = 0.5\n",
        "\n",
        "def compute_agg_score(row):\n",
        "  date, btc_percent_change, twitter_sentiment, range_diff, volume_diff, lstm_forecast = row\n",
        "  score = (0.15 * twitter_sentiment) + \\\n",
        "          (0.15 * lstm_forecast) + \\\n",
        "          ((0.35 * (range_diff - min_range_diff)) / (max_range_diff - min_range_diff)) + \\\n",
        "          ((0.35 * (volume_diff - min_volume_diff)) / (max_volume_diff - min_volume_diff))\n",
        "  # if score < 0.35 and score > -0.35 and random.random() < random_probability:\n",
        "  #   score *= -1\n",
        "  return (date,\n",
        "          btc_percent_change,\n",
        "          score)\n",
        "\n",
        "volume_volatility_results = intermediate_results.rdd.map(compute_agg_score).toDF([\"date\",\"btc_percent_change\",\"score\"])\n",
        "volume_volatility_results.show(10)"
      ],
      "metadata": {
        "colab": {
          "base_uri": "https://localhost:8080/"
        },
        "id": "D5Xr-gMNKqV3",
        "outputId": "904ccea2-77ad-42e5-bf14-805acfbc6621"
      },
      "execution_count": 26,
      "outputs": [
        {
          "output_type": "stream",
          "name": "stdout",
          "text": [
            "+----------+------------------+-------------------+\n",
            "|      date|btc_percent_change|              score|\n",
            "+----------+------------------+-------------------+\n",
            "|2019-11-22|             -4.29|0.15123706499452289|\n",
            "|2019-11-21|             -5.86|0.18426601831725828|\n",
            "|2019-11-20|             -0.44|0.24047869763276628|\n",
            "|2019-11-19|             -0.68|0.22301997433175647|\n",
            "|2019-11-18|             -3.87| 0.2106305497973267|\n",
            "|2019-11-15|             -1.95|0.21558152187899748|\n",
            "|2019-11-14|             -1.47|0.23632162826568293|\n",
            "|2019-11-13|             -0.70|0.23438928324559938|\n",
            "|2019-11-12|              1.07|0.22924683657734332|\n",
            "|2019-11-11|             -3.43|0.21459712715571538|\n",
            "+----------+------------------+-------------------+\n",
            "only showing top 10 rows\n",
            "\n"
          ]
        }
      ]
    },
    {
      "cell_type": "code",
      "source": [
        "volume_volatility_results_count = volume_volatility_results.count()\n",
        "print(\"Number of results:\", volume_volatility_results_count)\n",
        "true_positive_count = volume_volatility_results.filter(\n",
        "      \"(btc_percent_change < 0 and score < 0) or (btc_percent_change >= 0 and score >= 0)\"\n",
        "    ).count()\n",
        "print(\"Number of true positives:\", true_positive_count)\n",
        "print(\"Number of true negatives:\", volume_volatility_results_count - true_positive_count)\n",
        "print(\"Accuracy: {}%\".format(\"%.2f\" % (true_positive_count * 100 / volume_volatility_results_count)))"
      ],
      "metadata": {
        "id": "g_xd4DrM9bZq",
        "colab": {
          "base_uri": "https://localhost:8080/"
        },
        "outputId": "68147432-1f59-4542-f847-d4c95144557d"
      },
      "execution_count": 27,
      "outputs": [
        {
          "output_type": "stream",
          "name": "stdout",
          "text": [
            "Number of results: 721\n",
            "Number of true positives: 484\n",
            "Number of true negatives: 237\n",
            "Accuracy: 67.13%\n"
          ]
        }
      ]
    }
  ]
}