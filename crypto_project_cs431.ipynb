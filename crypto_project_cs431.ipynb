{
  "nbformat": 4,
  "nbformat_minor": 0,
  "metadata": {
    "colab": {
      "name": "crypto_project_cs431.ipynb",
      "provenance": [],
      "collapsed_sections": []
    },
    "kernelspec": {
      "name": "python3",
      "display_name": "Python 3"
    },
    "language_info": {
      "name": "python"
    }
  },
  "cells": [
    {
      "cell_type": "markdown",
      "source": [
        "Mount Google Drive"
      ],
      "metadata": {
        "id": "ggHQh7g6Y39w"
      }
    },
    {
      "cell_type": "code",
      "source": [
        "from google.colab import drive\n",
        "drive.mount('/content/drive')"
      ],
      "metadata": {
        "colab": {
          "base_uri": "https://localhost:8080/"
        },
        "id": "qNpWsBriY2UB",
        "outputId": "00a5a269-cd33-4f97-e940-f5bb8bb35e4c"
      },
      "execution_count": 1,
      "outputs": [
        {
          "output_type": "stream",
          "name": "stdout",
          "text": [
            "Drive already mounted at /content/drive; to attempt to forcibly remount, call drive.mount(\"/content/drive\", force_remount=True).\n"
          ]
        }
      ]
    },
    {
      "cell_type": "markdown",
      "source": [
        "Initialize Spark"
      ],
      "metadata": {
        "id": "AUQpAP5QbqRm"
      }
    },
    {
      "cell_type": "code",
      "source": [
        "!apt-get update -qq > /dev/null\n",
        "!apt-get install openjdk-8-jdk-headless -qq > /dev/null\n",
        "!wget -q https://downloads.apache.org/spark/spark-2.4.8/spark-2.4.8-bin-hadoop2.7.tgz\n",
        "!tar xf spark-2.4.8-bin-hadoop2.7.tgz\n",
        "!pip install -q findspark\n",
        "!wget -q https://student.cs.uwaterloo.ca/~cs451/content/cs431/sql-data.tgz\n",
        "!tar -xzf sql-data.tgz"
      ],
      "metadata": {
        "id": "5js_8ZwtQqc2"
      },
      "execution_count": 63,
      "outputs": []
    },
    {
      "cell_type": "code",
      "source": [
        "import os\n",
        "os.environ[\"JAVA_HOME\"] = \"/usr/lib/jvm/java-8-openjdk-amd64\"\n",
        "os.environ[\"SPARK_HOME\"] = \"/content/spark-2.4.8-bin-hadoop2.7\"\n",
        "\n",
        "import findspark\n",
        "findspark.init()\n",
        "\n",
        "from pyspark.sql import SparkSession, functions\n",
        "import random\n",
        "\n",
        "spark = SparkSession.builder.appName(\"YourTest\").master(\"local[2]\").config('spark.ui.port', random.randrange(4000,5000)).getOrCreate()"
      ],
      "metadata": {
        "id": "vKAx0a1_QsVO"
      },
      "execution_count": 2,
      "outputs": []
    },
    {
      "cell_type": "markdown",
      "source": [
        "Initialize Tweepy"
      ],
      "metadata": {
        "id": "XnYTuKOy13KJ"
      }
    },
    {
      "cell_type": "code",
      "execution_count": 3,
      "metadata": {
        "colab": {
          "base_uri": "https://localhost:8080/"
        },
        "id": "SGTGoxSNIafT",
        "outputId": "6470cdf9-9d47-4384-ae59-d955245956d7"
      },
      "outputs": [
        {
          "output_type": "stream",
          "name": "stdout",
          "text": [
            "Requirement already satisfied: textblob in /usr/local/lib/python3.7/dist-packages (0.15.3)\n",
            "Requirement already satisfied: nltk>=3.1 in /usr/local/lib/python3.7/dist-packages (from textblob) (3.2.5)\n",
            "Requirement already satisfied: six in /usr/local/lib/python3.7/dist-packages (from nltk>=3.1->textblob) (1.15.0)\n",
            "Requirement already satisfied: tweepy in /usr/local/lib/python3.7/dist-packages (3.10.0)\n",
            "Requirement already satisfied: six>=1.10.0 in /usr/local/lib/python3.7/dist-packages (from tweepy) (1.15.0)\n",
            "Requirement already satisfied: requests-oauthlib>=0.7.0 in /usr/local/lib/python3.7/dist-packages (from tweepy) (1.3.1)\n",
            "Requirement already satisfied: requests[socks]>=2.11.1 in /usr/local/lib/python3.7/dist-packages (from tweepy) (2.23.0)\n",
            "Requirement already satisfied: oauthlib>=3.0.0 in /usr/local/lib/python3.7/dist-packages (from requests-oauthlib>=0.7.0->tweepy) (3.2.0)\n",
            "Requirement already satisfied: idna<3,>=2.5 in /usr/local/lib/python3.7/dist-packages (from requests[socks]>=2.11.1->tweepy) (2.10)\n",
            "Requirement already satisfied: urllib3!=1.25.0,!=1.25.1,<1.26,>=1.21.1 in /usr/local/lib/python3.7/dist-packages (from requests[socks]>=2.11.1->tweepy) (1.24.3)\n",
            "Requirement already satisfied: chardet<4,>=3.0.2 in /usr/local/lib/python3.7/dist-packages (from requests[socks]>=2.11.1->tweepy) (3.0.4)\n",
            "Requirement already satisfied: certifi>=2017.4.17 in /usr/local/lib/python3.7/dist-packages (from requests[socks]>=2.11.1->tweepy) (2021.10.8)\n",
            "Requirement already satisfied: PySocks!=1.5.7,>=1.5.6 in /usr/local/lib/python3.7/dist-packages (from requests[socks]>=2.11.1->tweepy) (1.7.1)\n",
            "Requirement already satisfied: pycountry in /usr/local/lib/python3.7/dist-packages (22.3.5)\n",
            "Requirement already satisfied: setuptools in /usr/local/lib/python3.7/dist-packages (from pycountry) (57.4.0)\n",
            "Requirement already satisfied: langdetect in /usr/local/lib/python3.7/dist-packages (1.0.9)\n",
            "Requirement already satisfied: six in /usr/local/lib/python3.7/dist-packages (from langdetect) (1.15.0)\n",
            "Requirement already satisfied: twython in /usr/local/lib/python3.7/dist-packages (3.9.1)\n",
            "Requirement already satisfied: requests>=2.1.0 in /usr/local/lib/python3.7/dist-packages (from twython) (2.23.0)\n",
            "Requirement already satisfied: requests-oauthlib>=0.4.0 in /usr/local/lib/python3.7/dist-packages (from twython) (1.3.1)\n",
            "Requirement already satisfied: idna<3,>=2.5 in /usr/local/lib/python3.7/dist-packages (from requests>=2.1.0->twython) (2.10)\n",
            "Requirement already satisfied: chardet<4,>=3.0.2 in /usr/local/lib/python3.7/dist-packages (from requests>=2.1.0->twython) (3.0.4)\n",
            "Requirement already satisfied: certifi>=2017.4.17 in /usr/local/lib/python3.7/dist-packages (from requests>=2.1.0->twython) (2021.10.8)\n",
            "Requirement already satisfied: urllib3!=1.25.0,!=1.25.1,<1.26,>=1.21.1 in /usr/local/lib/python3.7/dist-packages (from requests>=2.1.0->twython) (1.24.3)\n",
            "Requirement already satisfied: oauthlib>=3.0.0 in /usr/local/lib/python3.7/dist-packages (from requests-oauthlib>=0.4.0->twython) (3.2.0)\n"
          ]
        }
      ],
      "source": [
        "# Install Libraries\n",
        "!pip install textblob\n",
        "!pip install tweepy\n",
        "!pip install pycountry\n",
        "!pip install langdetect\n",
        "!pip install twython"
      ]
    },
    {
      "cell_type": "code",
      "source": [
        "from textblob import TextBlob\n",
        "import sys\n",
        "import tweepy\n",
        "import matplotlib.pyplot as plt\n",
        "import pandas as pd\n",
        "import numpy as np\n",
        "import os\n",
        "import nltk\n",
        "import pycountry\n",
        "import re\n",
        "import string\n",
        "import json\n",
        "import socket\n",
        "from wordcloud import WordCloud, STOPWORDS\n",
        "from PIL import Image\n",
        "from nltk.sentiment.vader import SentimentIntensityAnalyzer\n",
        "from langdetect import detect\n",
        "from nltk.stem import SnowballStemmer\n",
        "from nltk.sentiment.vader import SentimentIntensityAnalyzer\n",
        "from sklearn.feature_extraction.text import CountVectorizer\n",
        "from datetime import datetime, timedelta\n",
        "nltk.download('vader_lexicon')"
      ],
      "metadata": {
        "id": "cW1EwcbVIi55",
        "colab": {
          "base_uri": "https://localhost:8080/"
        },
        "outputId": "fe19c346-d76b-4d59-fa84-7a675279020b"
      },
      "execution_count": 4,
      "outputs": [
        {
          "output_type": "stream",
          "name": "stdout",
          "text": [
            "[nltk_data] Downloading package vader_lexicon to /root/nltk_data...\n",
            "[nltk_data]   Package vader_lexicon is already up-to-date!\n"
          ]
        },
        {
          "output_type": "execute_result",
          "data": {
            "text/plain": [
              "True"
            ]
          },
          "metadata": {},
          "execution_count": 4
        }
      ]
    },
    {
      "cell_type": "code",
      "source": [
        "auth = tweepy.OAuthHandler(consumerKey, consumerSecret)\n",
        "auth.set_access_token(accessToken, accessTokenSecret)\n",
        "api = tweepy.API(auth)"
      ],
      "metadata": {
        "id": "L0W0iCnLKvNf"
      },
      "execution_count": 6,
      "outputs": []
    },
    {
      "cell_type": "markdown",
      "source": [
        "Import Datasets"
      ],
      "metadata": {
        "id": "_vFJomwx17iH"
      }
    },
    {
      "cell_type": "code",
      "source": [
        "btc_prices_raw = spark.read.csv(\"/content/drive/MyDrive/BTCUSD_daily.csv\",sep=',',header=True,inferSchema=True).drop(\"unix\").drop(\"symbol\").drop(\"Volume USD\").dropna(how=\"any\")"
      ],
      "metadata": {
        "id": "vNVzdDLwQ7Dk"
      },
      "execution_count": 72,
      "outputs": []
    },
    {
      "cell_type": "code",
      "source": [
        "btc_prices_raw.printSchema()\n",
        "btc_prices_raw.show(10)"
      ],
      "metadata": {
        "colab": {
          "base_uri": "https://localhost:8080/"
        },
        "id": "xuZMW_wid8mv",
        "outputId": "dc9a4b00-ba16-4632-b3c9-e72e1c27ffbb"
      },
      "execution_count": 73,
      "outputs": [
        {
          "output_type": "stream",
          "name": "stdout",
          "text": [
            "root\n",
            " |-- date: timestamp (nullable = true)\n",
            " |-- open: double (nullable = true)\n",
            " |-- high: double (nullable = true)\n",
            " |-- low: double (nullable = true)\n",
            " |-- close: double (nullable = true)\n",
            " |-- Volume BTC: double (nullable = true)\n",
            "\n",
            "+-------------------+--------+--------+--------+--------+-------------+\n",
            "|               date|    open|    high|     low|   close|   Volume BTC|\n",
            "+-------------------+--------+--------+--------+--------+-------------+\n",
            "|2022-03-31 00:00:00|47086.07|47341.83|46993.29|47173.36|  38.14053622|\n",
            "|2022-03-30 00:00:00|47459.03|47721.41|46572.15|47068.08|1627.54321756|\n",
            "|2022-03-29 00:00:00|47152.38|48128.87|46941.84|47459.03|1716.32392308|\n",
            "|2022-03-28 00:00:00|46854.96| 48234.0|46672.25|47152.38|2691.93784761|\n",
            "|2022-03-27 00:00:00|44553.24| 46950.0| 44456.9|46864.39|1548.88890527|\n",
            "|2022-03-26 00:00:00|44340.49|44815.31| 44101.0|44535.65|  494.7242021|\n",
            "|2022-03-25 00:00:00|44025.99|45137.12|43616.88| 44320.6| 1725.0715699|\n",
            "|2022-03-24 00:00:00|42912.21| 44240.0|42636.54|44025.99|2173.30497451|\n",
            "|2022-03-23 00:00:00|42393.62|43021.73|41779.11|42925.41|1906.72354645|\n",
            "|2022-03-22 00:00:00|41018.36|43337.41|40901.13|42393.41| 2375.4246535|\n",
            "+-------------------+--------+--------+--------+--------+-------------+\n",
            "only showing top 10 rows\n",
            "\n"
          ]
        }
      ]
    },
    {
      "cell_type": "code",
      "source": [
        "tweets_raw = spark.read.csv(\"/content/drive/MyDrive/tweets.csv\",sep=';',header=True,inferSchema=True,multiLine=True).drop(\"id\").drop(\"fullname\").drop(\"url\").drop(\"replies\").drop(\"retweets\").dropna(how=\"any\")"
      ],
      "metadata": {
        "id": "ZFTkcsCsaChx"
      },
      "execution_count": 9,
      "outputs": []
    },
    {
      "cell_type": "code",
      "source": [
        "tweets_raw.printSchema()\n",
        "tweets_raw.show(10)"
      ],
      "metadata": {
        "colab": {
          "base_uri": "https://localhost:8080/"
        },
        "id": "0EBz631cdtJe",
        "outputId": "0aa4bf2b-37c3-40b1-d44d-330b21bde091"
      },
      "execution_count": 10,
      "outputs": [
        {
          "output_type": "stream",
          "name": "stdout",
          "text": [
            "root\n",
            " |-- user: string (nullable = true)\n",
            " |-- timestamp: string (nullable = true)\n",
            " |-- likes: string (nullable = true)\n",
            " |-- text\r: string (nullable = true)\n",
            "\n",
            "+---------------+--------------------+-----+-------------------------------------+\n",
            "|\n",
            "+---------------+--------------------+-----+-------------------------------------+\n",
            "|   KamdemAbdiel|2019-05-27 11:49:...|    0|                 È appena uscito u...|\n",
            "|      bitcointe|2019-05-27 11:49:...|    0|                 Cardano: Digitize...|\n",
            "|      3eyedbran|2019-05-27 11:49:...|    2|                 Another Test twee...|\n",
            "|  DetroitCrypto|2019-05-27 11:49:...|    0|                 Current Crypto Pr...|\n",
            "|   mmursaleen72|2019-05-27 11:49:...|    0|                 Spiv (Nosar Baz):...|\n",
            "|       0nurTOKA|2019-05-27 11:49:...|    0|                 #btc inceldiği ye...|\n",
            "|   evilrobotted|2019-05-27 11:49:...|    0|                 @nwoodfine We hav...|\n",
            "|jabur_guilherme|2019-05-27 11:49:...|    0|                 @pedronauck como ...|\n",
            "|       INTBICON|2019-05-27 11:49:...|    0|ブラジルはまぁ置いといてもドイツは...|\n",
            "|     MLWright15|2019-05-27 11:49:...|    0|                 CHANGE IS COMING....|\n",
            "+---------------+--------------------+-----+-------------------------------------+\n",
            "only showing top 10 rows\n",
            "\n"
          ]
        }
      ]
    },
    {
      "cell_type": "markdown",
      "source": [
        "Convert BTC prices to percent changes"
      ],
      "metadata": {
        "id": "2_IetHuRAvA5"
      }
    },
    {
      "cell_type": "code",
      "source": [
        "def compute_percent_change(row):\n",
        "  date, open, high, low, close, volume = row\n",
        "\n",
        "  range = high - low\n",
        "  percent_change = (close - open) * 100 / open\n",
        "  \n",
        "  return (date.date(), \"%.2f\" % percent_change, range, volume)\n",
        "\n",
        "btc_daily_changes = btc_prices_raw.rdd \\\n",
        "                                  .map(compute_percent_change) \\\n",
        "                                  .toDF([\"date\",\"btc_percent_change\",\"btc_range\",\"btc_volume\"])"
      ],
      "metadata": {
        "id": "9Drd_jjgA6Rj"
      },
      "execution_count": 74,
      "outputs": []
    },
    {
      "cell_type": "code",
      "source": [
        "btc_daily_changes.createOrReplaceTempView(\"btc_daily_changes\")\n",
        "btc_daily_changes.printSchema()\n",
        "btc_daily_changes.show(10)"
      ],
      "metadata": {
        "colab": {
          "base_uri": "https://localhost:8080/"
        },
        "id": "Jsnr1E9eEy8Z",
        "outputId": "beb9ad5c-5b04-4303-e5cd-8063bd258b06"
      },
      "execution_count": 75,
      "outputs": [
        {
          "output_type": "stream",
          "name": "stdout",
          "text": [
            "root\n",
            " |-- date: date (nullable = true)\n",
            " |-- btc_percent_change: string (nullable = true)\n",
            " |-- btc_range: double (nullable = true)\n",
            " |-- btc_volume: double (nullable = true)\n",
            "\n",
            "+----------+------------------+------------------+-------------+\n",
            "|      date|btc_percent_change|         btc_range|   btc_volume|\n",
            "+----------+------------------+------------------+-------------+\n",
            "|2022-03-31|              0.19| 348.5400000000009|  38.14053622|\n",
            "|2022-03-30|             -0.82| 1149.260000000002|1627.54321756|\n",
            "|2022-03-29|              0.65| 1187.030000000006|1716.32392308|\n",
            "|2022-03-28|              0.63|           1561.75|2691.93784761|\n",
            "|2022-03-27|              5.19|2493.0999999999985|1548.88890527|\n",
            "|2022-03-26|              0.44| 714.3099999999977|  494.7242021|\n",
            "|2022-03-25|              0.67|1520.2400000000052| 1725.0715699|\n",
            "|2022-03-24|              2.60|1603.4599999999991|2173.30497451|\n",
            "|2022-03-23|              1.25|1242.6200000000026|1906.72354645|\n",
            "|2022-03-22|              3.35| 2436.280000000006| 2375.4246535|\n",
            "+----------+------------------+------------------+-------------+\n",
            "only showing top 10 rows\n",
            "\n"
          ]
        }
      ]
    },
    {
      "cell_type": "markdown",
      "source": [
        "Convert tweets to scores"
      ],
      "metadata": {
        "id": "uhijgZA_Aq09"
      }
    },
    {
      "cell_type": "code",
      "source": [
        "def compute_score(row):\n",
        "  try:\n",
        "    likes = int(row[2])\n",
        "  except:\n",
        "    return []\n",
        "\n",
        "  if likes < 100:\n",
        "    return []\n",
        "  \n",
        "  score = SentimentIntensityAnalyzer().polarity_scores(row[3])[\"compound\"]\n",
        "  if score == 0.0:\n",
        "    return []\n",
        "  \n",
        "  date = datetime.strptime(\"{}00\".format(row[1]), \"%Y-%m-%d %H:%M:%S%z\") \\\n",
        "              .date()\n",
        "  \n",
        "  # try:\n",
        "  #   user = api.get_user(row[0])\n",
        "  #   if user.verified:\n",
        "  #     likes += 100000\n",
        "  #   likes += user.followers_count\n",
        "  # except:\n",
        "  #   pass\n",
        "\n",
        "  # return [(date, likes, score)]\n",
        "\n",
        "  return [(date, score)]\n",
        "\n",
        "tweet_daily_scores = tweets_raw.rdd \\\n",
        "                        .flatMap(compute_score) \\\n",
        "                        .toDF([\"date\",\"score\"]) \\\n",
        "                        .cache()\n",
        "\n",
        "# min_likes = tweet_scores.min(lambda row: row[1])[1]\n",
        "# max_likes = tweet_scores.max(lambda row: row[1])[1]\n",
        "\n",
        "# def compute_agg_score(row):\n",
        "#   normalized_likes = (row[1] - min_likes) / (max_likes - min_likes)\n",
        "#   return (row[0], normalized_likes * row[2])\n",
        "\n",
        "# tweet_daily_scores = tweet_scores.map(compute_agg_score) \\\n",
        "#                         .toDF([\"date\",\"agg_score\"]) \\\n",
        "#                         .cache()"
      ],
      "metadata": {
        "id": "jb2bAgQMfBno"
      },
      "execution_count": 70,
      "outputs": []
    },
    {
      "cell_type": "code",
      "source": [
        "tweet_daily_scores.createOrReplaceTempView(\"tweet_daily_scores\")\n",
        "tweet_daily_scores.printSchema()\n",
        "tweet_daily_scores.show(10)"
      ],
      "metadata": {
        "colab": {
          "base_uri": "https://localhost:8080/"
        },
        "id": "mecl8tDFBcSp",
        "outputId": "c63d92a3-02bf-4bbf-f692-6772a51c7af1"
      },
      "execution_count": 71,
      "outputs": [
        {
          "output_type": "stream",
          "name": "stdout",
          "text": [
            "root\n",
            " |-- date: date (nullable = true)\n",
            " |-- score: double (nullable = true)\n",
            "\n",
            "+----------+-------+\n",
            "|      date|  score|\n",
            "+----------+-------+\n",
            "|2019-05-27|-0.6956|\n",
            "|2019-05-26|-0.8218|\n",
            "|2019-05-27|-0.2732|\n",
            "|2019-05-27| 0.5106|\n",
            "|2019-05-27| 0.2263|\n",
            "|2019-05-27| 0.0258|\n",
            "|2019-05-27| 0.4215|\n",
            "|2019-05-25| 0.7964|\n",
            "|2019-05-25| 0.9445|\n",
            "|2019-05-03| 0.8038|\n",
            "+----------+-------+\n",
            "only showing top 10 rows\n",
            "\n"
          ]
        }
      ]
    },
    {
      "cell_type": "markdown",
      "source": [
        "Combine BTC daily changes with tweet scores"
      ],
      "metadata": {
        "id": "nGx4_MflGMwz"
      }
    },
    {
      "cell_type": "code",
      "source": [
        "results = btc_daily_changes.join(\n",
        "      tweet_daily_scores.groupBy(\"date\").agg({\"score\": \"mean\"}),\n",
        "      on=\"date\"\n",
        "    ).withColumnRenamed(\"avg(score)\",\"twitter_sentiment\") \\\n",
        "    .withColumnRenamed(\"percent_change\",\"btc_percent_change\") \\\n",
        "    .cache()\n",
        "results.printSchema()\n",
        "results.show(10)"
      ],
      "metadata": {
        "colab": {
          "base_uri": "https://localhost:8080/"
        },
        "id": "7ITdKd0pGTFW",
        "outputId": "8c9dd288-8d36-4fc0-80bb-9c701eb1cf04"
      },
      "execution_count": 77,
      "outputs": [
        {
          "output_type": "stream",
          "name": "stdout",
          "text": [
            "root\n",
            " |-- date: date (nullable = true)\n",
            " |-- btc_percent_change: string (nullable = true)\n",
            " |-- btc_range: double (nullable = true)\n",
            " |-- btc_volume: double (nullable = true)\n",
            " |-- twitter_sentiment: double (nullable = true)\n",
            "\n",
            "+----------+------------------+------------------+--------------+-------------------+\n",
            "|      date|btc_percent_change|         btc_range|    btc_volume|  twitter_sentiment|\n",
            "+----------+------------------+------------------+--------------+-------------------+\n",
            "|2019-11-23|              0.61|254.32999999999993| 5550.47222776|            0.30866|\n",
            "|2019-11-22|             -4.29| 929.6999999999998|20120.14646602| 0.1684896174863388|\n",
            "|2019-11-21|             -5.86| 722.8299999999999| 9374.99957046|0.25843722222222226|\n",
            "|2019-11-20|             -0.44|203.76000000000113| 2996.00619203|0.35864370860927136|\n",
            "|2019-11-19|             -0.68| 208.6200000000008| 4412.39464174|0.27039924242424257|\n",
            "|2019-11-18|             -3.87| 497.6999999999998| 4825.65562506| 0.2539301369863015|\n",
            "|2019-11-17|              0.16|256.60000000000036| 2074.00770126|0.29695877192982445|\n",
            "|2019-11-16|              0.30|116.53000000000065| 1180.57339029| 0.2516770642201835|\n",
            "|2019-11-15|             -1.95|436.03000000000065| 5213.70141434| 0.2905542857142857|\n",
            "|2019-11-14|             -1.47|236.78000000000065| 3412.80581524| 0.3743210526315788|\n",
            "+----------+------------------+------------------+--------------+-------------------+\n",
            "only showing top 10 rows\n",
            "\n"
          ]
        }
      ]
    },
    {
      "cell_type": "code",
      "source": [
        "results_count = results.count()\n",
        "print(\"Number of results:\", results_count)\n",
        "true_positive_count = results.filter(\n",
        "      \"(btc_percent_change < 0 and twitter_sentiment < 0) or (btc_percent_change >= 0 and twitter_sentiment >= 0)\"\n",
        "    ).count()\n",
        "print(\"Number of true positives:\", true_positive_count)\n",
        "print(\"Number of true negatives:\", results_count - true_positive_count)\n",
        "print(\"Accuracy: {}%\".format(\"%.2f\" % (true_positive_count * 100 / results_count)))"
      ],
      "metadata": {
        "colab": {
          "base_uri": "https://localhost:8080/"
        },
        "id": "gUoyG7j2nzyB",
        "outputId": "598fb242-e5dc-46ba-add2-7b6c74723c89"
      },
      "execution_count": 78,
      "outputs": [
        {
          "output_type": "stream",
          "name": "stdout",
          "text": [
            "Number of results: 995\n",
            "Number of true positives: 643\n",
            "Number of true negatives: 352\n",
            "Accuracy: 64.62%\n"
          ]
        }
      ]
    },
    {
      "cell_type": "markdown",
      "source": [
        "Incorporate BTC volume and volatility into sentiment analysis score"
      ],
      "metadata": {
        "id": "1ThEN9WaKq6g"
      }
    },
    {
      "cell_type": "code",
      "source": [
        "avg_btc_range = btc_daily_changes.select(functions.avg(\"btc_range\")).collect()[0][0]\n",
        "max_btc_range = btc_daily_changes.select(functions.max(\"btc_range\")).collect()[0][0]\n",
        "avg_btc_volume = btc_daily_changes.select(functions.avg(\"btc_volume\")).collect()[0][0]\n",
        "max_btc_volume = btc_daily_changes.select(functions.max(\"btc_volume\")).collect()[0][0]\n",
        "\n",
        "# positive difference in range == high and low is larger than usual == more volatile == more fear == more negative sentiment\n",
        "# negative difference in range == high and low is smaller than usual == less volatile == more greed == more positive sentiment\n",
        "# positive difference in volume == more is being traded than usual == more greed == more positive sentiment\n",
        "# negative difference in volume == less is being traded than usual == more fear == more negative sentiment\n",
        "\n",
        "def combine_volume_volatility_with_sentiment(row):\n",
        "  date, btc_percent_change, btc_range, btc_volume, twitter_sentiment = row\n",
        "  return (date,\n",
        "          btc_percent_change,\n",
        "          twitter_sentiment,\n",
        "          avg_btc_range - btc_range,\n",
        "          btc_volume - avg_btc_volume)\n",
        "\n",
        "intermediate_results = results.rdd \\\n",
        "    .map(combine_volume_volatility_with_sentiment) \\\n",
        "    .toDF([\"date\",\"btc_percent_change\",\"twitter_sentiment\",\"range_diff\",\"volume_diff\"])\n",
        "\n",
        "avg_twitter_sentiment = intermediate_results.select(functions.avg(\"twitter_sentiment\")).collect()[0][0]\n",
        "max_twitter_sentiment = intermediate_results.select(functions.max(\"twitter_sentiment\")).collect()[0][0]\n",
        "min_twitter_sentiment = intermediate_results.select(functions.min(\"twitter_sentiment\")).collect()[0][0]\n",
        "avg_range_diff = intermediate_results.select(functions.avg(\"range_diff\")).collect()[0][0]\n",
        "max_range_diff = intermediate_results.select(functions.max(\"range_diff\")).collect()[0][0]\n",
        "min_range_diff = intermediate_results.select(functions.min(\"range_diff\")).collect()[0][0]\n",
        "avg_volume_diff = intermediate_results.select(functions.avg(\"volume_diff\")).collect()[0][0]\n",
        "max_volume_diff = intermediate_results.select(functions.max(\"volume_diff\")).collect()[0][0]\n",
        "min_volume_diff = intermediate_results.select(functions.min(\"volume_diff\")).collect()[0][0]\n",
        "\n",
        "random_probability = 0.5\n",
        "\n",
        "def compute_agg_score(row):\n",
        "  date, btc_percent_change, twitter_sentiment, range_diff, volume_diff = row\n",
        "  score = (0.1 * twitter_sentiment) + \\\n",
        "          ((0.45 * (range_diff - min_range_diff)) / (max_range_diff - min_range_diff)) + \\\n",
        "          ((0.45 * (volume_diff - min_volume_diff)) / (max_volume_diff - min_volume_diff))\n",
        "  if score < 0.35 and score > -0.35 and random.random() < random_probability:\n",
        "    score *= -1\n",
        "  return (date,\n",
        "          btc_percent_change,\n",
        "          score)\n",
        "\n",
        "volume_volatility_results = intermediate_results.rdd.map(compute_agg_score).toDF([\"date\",\"btc_percent_change\",\"score\"])\n",
        "volume_volatility_results.show(10)"
      ],
      "metadata": {
        "colab": {
          "base_uri": "https://localhost:8080/"
        },
        "id": "D5Xr-gMNKqV3",
        "outputId": "275118a7-161c-46e4-f9a6-f1dfae0b977a"
      },
      "execution_count": 313,
      "outputs": [
        {
          "output_type": "stream",
          "name": "stdout",
          "text": [
            "+----------+------------------+-------------------+\n",
            "|      date|btc_percent_change|              score|\n",
            "+----------+------------------+-------------------+\n",
            "|2019-11-23|              0.61| 0.4564417748584328|\n",
            "|2019-11-22|             -4.29|0.37683261007285945|\n",
            "|2019-11-21|             -5.86|0.40591498335571924|\n",
            "|2019-11-20|             -0.44| 0.4663506657775021|\n",
            "|2019-11-19|             -0.68| 0.4570549787522967|\n",
            "|2019-11-18|             -3.87| 0.4273291435619582|\n",
            "|2019-11-17|              0.16|  0.455049134898479|\n",
            "|2019-11-16|              0.30|0.46412584242472904|\n",
            "|2019-11-15|             -1.95| 0.4369819676372308|\n",
            "|2019-11-14|             -1.47| 0.4647113161904052|\n",
            "+----------+------------------+-------------------+\n",
            "only showing top 10 rows\n",
            "\n"
          ]
        }
      ]
    },
    {
      "cell_type": "code",
      "source": [
        "volume_volatility_results_count = volume_volatility_results.count()\n",
        "print(\"Number of results:\", volume_volatility_results_count)\n",
        "true_positive_count = volume_volatility_results.filter(\n",
        "      \"(btc_percent_change < 0 and score < 0) or (btc_percent_change >= 0 and score >= 0)\"\n",
        "    ).count()\n",
        "print(\"Number of true positives:\", true_positive_count)\n",
        "print(\"Number of true negatives:\", volume_volatility_results_count - true_positive_count)\n",
        "print(\"Accuracy: {}%\".format(\"%.2f\" % (true_positive_count * 100 / volume_volatility_results_count)))"
      ],
      "metadata": {
        "id": "g_xd4DrM9bZq",
        "colab": {
          "base_uri": "https://localhost:8080/"
        },
        "outputId": "8f1f98ce-5032-489d-f776-b52694a32c2f"
      },
      "execution_count": 316,
      "outputs": [
        {
          "output_type": "stream",
          "name": "stdout",
          "text": [
            "Number of results: 995\n",
            "Number of true positives: 703\n",
            "Number of true negatives: 292\n",
            "Accuracy: 70.65%\n"
          ]
        }
      ]
    },
    {
      "cell_type": "markdown",
      "source": [
        "Stream"
      ],
      "metadata": {
        "id": "F4oB5p__uy2p"
      }
    },
    {
      "cell_type": "code",
      "source": [
        "from tweepy.streaming import StreamListener\n",
        "\n",
        "class TweetsListener(StreamListener):\n",
        "    def __init__(self, csocket):\n",
        "        self.client_socket = csocket\n",
        "    # we override the on_data() function in StreamListener\n",
        "    def on_data(self, data):\n",
        "        try:\n",
        "            message = json.loads( data )\n",
        "            print( message['text'].encode('utf-8') )\n",
        "            self.client_socket.send( message['text'].encode('utf-8') )\n",
        "            return True\n",
        "        except BaseException as e:\n",
        "            print(\"Error on_data: %s\" % str(e))\n",
        "        return True\n",
        "\n",
        "    def if_error(self, status):\n",
        "        print(status)\n",
        "        return True"
      ],
      "metadata": {
        "id": "_if4TTicJ_K2"
      },
      "execution_count": null,
      "outputs": []
    },
    {
      "cell_type": "code",
      "source": [
        "def send_tweets(c_socket):\n",
        "    auth = tweepy.auth.OAuthHandler(consumerKey, consumerSecret)\n",
        "    auth.set_access_token(accessToken, accessTokenSecret)\n",
        "    \n",
        "    twitter_stream = tweepy.Stream(auth, TweetsListener(c_socket))\n",
        "    twitter_stream.filter(track=['bitcoin'])"
      ],
      "metadata": {
        "id": "BFy2MP0cKGkf"
      },
      "execution_count": null,
      "outputs": []
    },
    {
      "cell_type": "markdown",
      "source": [
        "Dump tweets into .csv"
      ],
      "metadata": {
        "id": "vmyQZYMQb9g1"
      }
    },
    {
      "cell_type": "code",
      "source": [
        "# import nltk\n",
        "# nltk.download('vader_lexicon')\n",
        "\n",
        "# keyword = \"bitcoin\"\n",
        "# tweets = tweepy.Cursor(api.search, q=keyword, wait_on_rate_limit=True).items()\n",
        "\n",
        "# f = open(\"tweets.csv\", \"a\")\n",
        "\n",
        "# # Write header line\n",
        "# # f.write(\"compound,created_at,retweet_count\\n\")\n",
        "\n",
        "# for tweet in tweets:\n",
        "#   if tweet.retweet_count < 100:\n",
        "#     continue\n",
        "\n",
        "#   score = SentimentIntensityAnalyzer().polarity_scores(tweet.text)\n",
        "#   if score['compound'] == 0.0:\n",
        "#     continue\n",
        "  \n",
        "#   f.write(\"{},{},{}\\n\".format(score['compound'], tweet.created_at, tweet.retweet_count))\n",
        "\n",
        "# f.close()"
      ],
      "metadata": {
        "colab": {
          "base_uri": "https://localhost:8080/"
        },
        "id": "DSW7m4DQcFpW",
        "outputId": "79e8eb0a-f384-4103-d407-13bc44c92e67"
      },
      "execution_count": null,
      "outputs": [
        {
          "output_type": "stream",
          "name": "stdout",
          "text": [
            "[nltk_data] Downloading package vader_lexicon to /root/nltk_data...\n",
            "[nltk_data]   Package vader_lexicon is already up-to-date!\n"
          ]
        },
        {
          "output_type": "error",
          "ename": "TweepError",
          "evalue": "ignored",
          "traceback": [
            "\u001b[0;31m---------------------------------------------------------------------------\u001b[0m",
            "\u001b[0;31mConnectionResetError\u001b[0m                      Traceback (most recent call last)",
            "\u001b[0;32m/usr/local/lib/python3.7/dist-packages/urllib3/connectionpool.py\u001b[0m in \u001b[0;36murlopen\u001b[0;34m(self, method, url, body, headers, retries, redirect, assert_same_host, timeout, pool_timeout, release_conn, chunked, body_pos, **response_kw)\u001b[0m\n\u001b[1;32m    599\u001b[0m                                                   \u001b[0mbody\u001b[0m\u001b[0;34m=\u001b[0m\u001b[0mbody\u001b[0m\u001b[0;34m,\u001b[0m \u001b[0mheaders\u001b[0m\u001b[0;34m=\u001b[0m\u001b[0mheaders\u001b[0m\u001b[0;34m,\u001b[0m\u001b[0;34m\u001b[0m\u001b[0;34m\u001b[0m\u001b[0m\n\u001b[0;32m--> 600\u001b[0;31m                                                   chunked=chunked)\n\u001b[0m\u001b[1;32m    601\u001b[0m \u001b[0;34m\u001b[0m\u001b[0m\n",
            "\u001b[0;32m/usr/local/lib/python3.7/dist-packages/urllib3/connectionpool.py\u001b[0m in \u001b[0;36m_make_request\u001b[0;34m(self, conn, method, url, timeout, chunked, **httplib_request_kw)\u001b[0m\n\u001b[1;32m    383\u001b[0m                     \u001b[0;31m# otherwise it looks like a programming error was the cause.\u001b[0m\u001b[0;34m\u001b[0m\u001b[0;34m\u001b[0m\u001b[0;34m\u001b[0m\u001b[0m\n\u001b[0;32m--> 384\u001b[0;31m                     \u001b[0msix\u001b[0m\u001b[0;34m.\u001b[0m\u001b[0mraise_from\u001b[0m\u001b[0;34m(\u001b[0m\u001b[0me\u001b[0m\u001b[0;34m,\u001b[0m \u001b[0;32mNone\u001b[0m\u001b[0;34m)\u001b[0m\u001b[0;34m\u001b[0m\u001b[0;34m\u001b[0m\u001b[0m\n\u001b[0m\u001b[1;32m    385\u001b[0m         \u001b[0;32mexcept\u001b[0m \u001b[0;34m(\u001b[0m\u001b[0mSocketTimeout\u001b[0m\u001b[0;34m,\u001b[0m \u001b[0mBaseSSLError\u001b[0m\u001b[0;34m,\u001b[0m \u001b[0mSocketError\u001b[0m\u001b[0;34m)\u001b[0m \u001b[0;32mas\u001b[0m \u001b[0me\u001b[0m\u001b[0;34m:\u001b[0m\u001b[0;34m\u001b[0m\u001b[0;34m\u001b[0m\u001b[0m\n",
            "\u001b[0;32m/usr/local/lib/python3.7/dist-packages/urllib3/packages/six.py\u001b[0m in \u001b[0;36mraise_from\u001b[0;34m(value, from_value)\u001b[0m\n",
            "\u001b[0;32m/usr/local/lib/python3.7/dist-packages/urllib3/connectionpool.py\u001b[0m in \u001b[0;36m_make_request\u001b[0;34m(self, conn, method, url, timeout, chunked, **httplib_request_kw)\u001b[0m\n\u001b[1;32m    379\u001b[0m                 \u001b[0;32mtry\u001b[0m\u001b[0;34m:\u001b[0m\u001b[0;34m\u001b[0m\u001b[0;34m\u001b[0m\u001b[0m\n\u001b[0;32m--> 380\u001b[0;31m                     \u001b[0mhttplib_response\u001b[0m \u001b[0;34m=\u001b[0m \u001b[0mconn\u001b[0m\u001b[0;34m.\u001b[0m\u001b[0mgetresponse\u001b[0m\u001b[0;34m(\u001b[0m\u001b[0;34m)\u001b[0m\u001b[0;34m\u001b[0m\u001b[0;34m\u001b[0m\u001b[0m\n\u001b[0m\u001b[1;32m    381\u001b[0m                 \u001b[0;32mexcept\u001b[0m \u001b[0mException\u001b[0m \u001b[0;32mas\u001b[0m \u001b[0me\u001b[0m\u001b[0;34m:\u001b[0m\u001b[0;34m\u001b[0m\u001b[0;34m\u001b[0m\u001b[0m\n",
            "\u001b[0;32m/usr/lib/python3.7/http/client.py\u001b[0m in \u001b[0;36mgetresponse\u001b[0;34m(self)\u001b[0m\n\u001b[1;32m   1372\u001b[0m             \u001b[0;32mtry\u001b[0m\u001b[0;34m:\u001b[0m\u001b[0;34m\u001b[0m\u001b[0;34m\u001b[0m\u001b[0m\n\u001b[0;32m-> 1373\u001b[0;31m                 \u001b[0mresponse\u001b[0m\u001b[0;34m.\u001b[0m\u001b[0mbegin\u001b[0m\u001b[0;34m(\u001b[0m\u001b[0;34m)\u001b[0m\u001b[0;34m\u001b[0m\u001b[0;34m\u001b[0m\u001b[0m\n\u001b[0m\u001b[1;32m   1374\u001b[0m             \u001b[0;32mexcept\u001b[0m \u001b[0mConnectionError\u001b[0m\u001b[0;34m:\u001b[0m\u001b[0;34m\u001b[0m\u001b[0;34m\u001b[0m\u001b[0m\n",
            "\u001b[0;32m/usr/lib/python3.7/http/client.py\u001b[0m in \u001b[0;36mbegin\u001b[0;34m(self)\u001b[0m\n\u001b[1;32m    318\u001b[0m         \u001b[0;32mwhile\u001b[0m \u001b[0;32mTrue\u001b[0m\u001b[0;34m:\u001b[0m\u001b[0;34m\u001b[0m\u001b[0;34m\u001b[0m\u001b[0m\n\u001b[0;32m--> 319\u001b[0;31m             \u001b[0mversion\u001b[0m\u001b[0;34m,\u001b[0m \u001b[0mstatus\u001b[0m\u001b[0;34m,\u001b[0m \u001b[0mreason\u001b[0m \u001b[0;34m=\u001b[0m \u001b[0mself\u001b[0m\u001b[0;34m.\u001b[0m\u001b[0m_read_status\u001b[0m\u001b[0;34m(\u001b[0m\u001b[0;34m)\u001b[0m\u001b[0;34m\u001b[0m\u001b[0;34m\u001b[0m\u001b[0m\n\u001b[0m\u001b[1;32m    320\u001b[0m             \u001b[0;32mif\u001b[0m \u001b[0mstatus\u001b[0m \u001b[0;34m!=\u001b[0m \u001b[0mCONTINUE\u001b[0m\u001b[0;34m:\u001b[0m\u001b[0;34m\u001b[0m\u001b[0;34m\u001b[0m\u001b[0m\n",
            "\u001b[0;32m/usr/lib/python3.7/http/client.py\u001b[0m in \u001b[0;36m_read_status\u001b[0;34m(self)\u001b[0m\n\u001b[1;32m    279\u001b[0m     \u001b[0;32mdef\u001b[0m \u001b[0m_read_status\u001b[0m\u001b[0;34m(\u001b[0m\u001b[0mself\u001b[0m\u001b[0;34m)\u001b[0m\u001b[0;34m:\u001b[0m\u001b[0;34m\u001b[0m\u001b[0;34m\u001b[0m\u001b[0m\n\u001b[0;32m--> 280\u001b[0;31m         \u001b[0mline\u001b[0m \u001b[0;34m=\u001b[0m \u001b[0mstr\u001b[0m\u001b[0;34m(\u001b[0m\u001b[0mself\u001b[0m\u001b[0;34m.\u001b[0m\u001b[0mfp\u001b[0m\u001b[0;34m.\u001b[0m\u001b[0mreadline\u001b[0m\u001b[0;34m(\u001b[0m\u001b[0m_MAXLINE\u001b[0m \u001b[0;34m+\u001b[0m \u001b[0;36m1\u001b[0m\u001b[0;34m)\u001b[0m\u001b[0;34m,\u001b[0m \u001b[0;34m\"iso-8859-1\"\u001b[0m\u001b[0;34m)\u001b[0m\u001b[0;34m\u001b[0m\u001b[0;34m\u001b[0m\u001b[0m\n\u001b[0m\u001b[1;32m    281\u001b[0m         \u001b[0;32mif\u001b[0m \u001b[0mlen\u001b[0m\u001b[0;34m(\u001b[0m\u001b[0mline\u001b[0m\u001b[0;34m)\u001b[0m \u001b[0;34m>\u001b[0m \u001b[0m_MAXLINE\u001b[0m\u001b[0;34m:\u001b[0m\u001b[0;34m\u001b[0m\u001b[0;34m\u001b[0m\u001b[0m\n",
            "\u001b[0;32m/usr/lib/python3.7/socket.py\u001b[0m in \u001b[0;36mreadinto\u001b[0;34m(self, b)\u001b[0m\n\u001b[1;32m    588\u001b[0m             \u001b[0;32mtry\u001b[0m\u001b[0;34m:\u001b[0m\u001b[0;34m\u001b[0m\u001b[0;34m\u001b[0m\u001b[0m\n\u001b[0;32m--> 589\u001b[0;31m                 \u001b[0;32mreturn\u001b[0m \u001b[0mself\u001b[0m\u001b[0;34m.\u001b[0m\u001b[0m_sock\u001b[0m\u001b[0;34m.\u001b[0m\u001b[0mrecv_into\u001b[0m\u001b[0;34m(\u001b[0m\u001b[0mb\u001b[0m\u001b[0;34m)\u001b[0m\u001b[0;34m\u001b[0m\u001b[0;34m\u001b[0m\u001b[0m\n\u001b[0m\u001b[1;32m    590\u001b[0m             \u001b[0;32mexcept\u001b[0m \u001b[0mtimeout\u001b[0m\u001b[0;34m:\u001b[0m\u001b[0;34m\u001b[0m\u001b[0;34m\u001b[0m\u001b[0m\n",
            "\u001b[0;32m/usr/lib/python3.7/ssl.py\u001b[0m in \u001b[0;36mrecv_into\u001b[0;34m(self, buffer, nbytes, flags)\u001b[0m\n\u001b[1;32m   1070\u001b[0m                   self.__class__)\n\u001b[0;32m-> 1071\u001b[0;31m             \u001b[0;32mreturn\u001b[0m \u001b[0mself\u001b[0m\u001b[0;34m.\u001b[0m\u001b[0mread\u001b[0m\u001b[0;34m(\u001b[0m\u001b[0mnbytes\u001b[0m\u001b[0;34m,\u001b[0m \u001b[0mbuffer\u001b[0m\u001b[0;34m)\u001b[0m\u001b[0;34m\u001b[0m\u001b[0;34m\u001b[0m\u001b[0m\n\u001b[0m\u001b[1;32m   1072\u001b[0m         \u001b[0;32melse\u001b[0m\u001b[0;34m:\u001b[0m\u001b[0;34m\u001b[0m\u001b[0;34m\u001b[0m\u001b[0m\n",
            "\u001b[0;32m/usr/lib/python3.7/ssl.py\u001b[0m in \u001b[0;36mread\u001b[0;34m(self, len, buffer)\u001b[0m\n\u001b[1;32m    928\u001b[0m             \u001b[0;32mif\u001b[0m \u001b[0mbuffer\u001b[0m \u001b[0;32mis\u001b[0m \u001b[0;32mnot\u001b[0m \u001b[0;32mNone\u001b[0m\u001b[0;34m:\u001b[0m\u001b[0;34m\u001b[0m\u001b[0;34m\u001b[0m\u001b[0m\n\u001b[0;32m--> 929\u001b[0;31m                 \u001b[0;32mreturn\u001b[0m \u001b[0mself\u001b[0m\u001b[0;34m.\u001b[0m\u001b[0m_sslobj\u001b[0m\u001b[0;34m.\u001b[0m\u001b[0mread\u001b[0m\u001b[0;34m(\u001b[0m\u001b[0mlen\u001b[0m\u001b[0;34m,\u001b[0m \u001b[0mbuffer\u001b[0m\u001b[0;34m)\u001b[0m\u001b[0;34m\u001b[0m\u001b[0;34m\u001b[0m\u001b[0m\n\u001b[0m\u001b[1;32m    930\u001b[0m             \u001b[0;32melse\u001b[0m\u001b[0;34m:\u001b[0m\u001b[0;34m\u001b[0m\u001b[0;34m\u001b[0m\u001b[0m\n",
            "\u001b[0;31mConnectionResetError\u001b[0m: [Errno 104] Connection reset by peer",
            "\nDuring handling of the above exception, another exception occurred:\n",
            "\u001b[0;31mProtocolError\u001b[0m                             Traceback (most recent call last)",
            "\u001b[0;32m/usr/local/lib/python3.7/dist-packages/requests/adapters.py\u001b[0m in \u001b[0;36msend\u001b[0;34m(self, request, stream, timeout, verify, cert, proxies)\u001b[0m\n\u001b[1;32m    448\u001b[0m                     \u001b[0mretries\u001b[0m\u001b[0;34m=\u001b[0m\u001b[0mself\u001b[0m\u001b[0;34m.\u001b[0m\u001b[0mmax_retries\u001b[0m\u001b[0;34m,\u001b[0m\u001b[0;34m\u001b[0m\u001b[0;34m\u001b[0m\u001b[0m\n\u001b[0;32m--> 449\u001b[0;31m                     \u001b[0mtimeout\u001b[0m\u001b[0;34m=\u001b[0m\u001b[0mtimeout\u001b[0m\u001b[0;34m\u001b[0m\u001b[0;34m\u001b[0m\u001b[0m\n\u001b[0m\u001b[1;32m    450\u001b[0m                 )\n",
            "\u001b[0;32m/usr/local/lib/python3.7/dist-packages/urllib3/connectionpool.py\u001b[0m in \u001b[0;36murlopen\u001b[0;34m(self, method, url, body, headers, retries, redirect, assert_same_host, timeout, pool_timeout, release_conn, chunked, body_pos, **response_kw)\u001b[0m\n\u001b[1;32m    637\u001b[0m             retries = retries.increment(method, url, error=e, _pool=self,\n\u001b[0;32m--> 638\u001b[0;31m                                         _stacktrace=sys.exc_info()[2])\n\u001b[0m\u001b[1;32m    639\u001b[0m             \u001b[0mretries\u001b[0m\u001b[0;34m.\u001b[0m\u001b[0msleep\u001b[0m\u001b[0;34m(\u001b[0m\u001b[0;34m)\u001b[0m\u001b[0;34m\u001b[0m\u001b[0;34m\u001b[0m\u001b[0m\n",
            "\u001b[0;32m/usr/local/lib/python3.7/dist-packages/urllib3/util/retry.py\u001b[0m in \u001b[0;36mincrement\u001b[0;34m(self, method, url, response, error, _pool, _stacktrace)\u001b[0m\n\u001b[1;32m    367\u001b[0m             \u001b[0;32mif\u001b[0m \u001b[0mread\u001b[0m \u001b[0;32mis\u001b[0m \u001b[0;32mFalse\u001b[0m \u001b[0;32mor\u001b[0m \u001b[0;32mnot\u001b[0m \u001b[0mself\u001b[0m\u001b[0;34m.\u001b[0m\u001b[0m_is_method_retryable\u001b[0m\u001b[0;34m(\u001b[0m\u001b[0mmethod\u001b[0m\u001b[0;34m)\u001b[0m\u001b[0;34m:\u001b[0m\u001b[0;34m\u001b[0m\u001b[0;34m\u001b[0m\u001b[0m\n\u001b[0;32m--> 368\u001b[0;31m                 \u001b[0;32mraise\u001b[0m \u001b[0msix\u001b[0m\u001b[0;34m.\u001b[0m\u001b[0mreraise\u001b[0m\u001b[0;34m(\u001b[0m\u001b[0mtype\u001b[0m\u001b[0;34m(\u001b[0m\u001b[0merror\u001b[0m\u001b[0;34m)\u001b[0m\u001b[0;34m,\u001b[0m \u001b[0merror\u001b[0m\u001b[0;34m,\u001b[0m \u001b[0m_stacktrace\u001b[0m\u001b[0;34m)\u001b[0m\u001b[0;34m\u001b[0m\u001b[0;34m\u001b[0m\u001b[0m\n\u001b[0m\u001b[1;32m    369\u001b[0m             \u001b[0;32melif\u001b[0m \u001b[0mread\u001b[0m \u001b[0;32mis\u001b[0m \u001b[0;32mnot\u001b[0m \u001b[0;32mNone\u001b[0m\u001b[0;34m:\u001b[0m\u001b[0;34m\u001b[0m\u001b[0;34m\u001b[0m\u001b[0m\n",
            "\u001b[0;32m/usr/local/lib/python3.7/dist-packages/urllib3/packages/six.py\u001b[0m in \u001b[0;36mreraise\u001b[0;34m(tp, value, tb)\u001b[0m\n\u001b[1;32m    684\u001b[0m         \u001b[0;32mif\u001b[0m \u001b[0mvalue\u001b[0m\u001b[0;34m.\u001b[0m\u001b[0m__traceback__\u001b[0m \u001b[0;32mis\u001b[0m \u001b[0;32mnot\u001b[0m \u001b[0mtb\u001b[0m\u001b[0;34m:\u001b[0m\u001b[0;34m\u001b[0m\u001b[0;34m\u001b[0m\u001b[0m\n\u001b[0;32m--> 685\u001b[0;31m             \u001b[0;32mraise\u001b[0m \u001b[0mvalue\u001b[0m\u001b[0;34m.\u001b[0m\u001b[0mwith_traceback\u001b[0m\u001b[0;34m(\u001b[0m\u001b[0mtb\u001b[0m\u001b[0;34m)\u001b[0m\u001b[0;34m\u001b[0m\u001b[0;34m\u001b[0m\u001b[0m\n\u001b[0m\u001b[1;32m    686\u001b[0m         \u001b[0;32mraise\u001b[0m \u001b[0mvalue\u001b[0m\u001b[0;34m\u001b[0m\u001b[0;34m\u001b[0m\u001b[0m\n",
            "\u001b[0;32m/usr/local/lib/python3.7/dist-packages/urllib3/connectionpool.py\u001b[0m in \u001b[0;36murlopen\u001b[0;34m(self, method, url, body, headers, retries, redirect, assert_same_host, timeout, pool_timeout, release_conn, chunked, body_pos, **response_kw)\u001b[0m\n\u001b[1;32m    599\u001b[0m                                                   \u001b[0mbody\u001b[0m\u001b[0;34m=\u001b[0m\u001b[0mbody\u001b[0m\u001b[0;34m,\u001b[0m \u001b[0mheaders\u001b[0m\u001b[0;34m=\u001b[0m\u001b[0mheaders\u001b[0m\u001b[0;34m,\u001b[0m\u001b[0;34m\u001b[0m\u001b[0;34m\u001b[0m\u001b[0m\n\u001b[0;32m--> 600\u001b[0;31m                                                   chunked=chunked)\n\u001b[0m\u001b[1;32m    601\u001b[0m \u001b[0;34m\u001b[0m\u001b[0m\n",
            "\u001b[0;32m/usr/local/lib/python3.7/dist-packages/urllib3/connectionpool.py\u001b[0m in \u001b[0;36m_make_request\u001b[0;34m(self, conn, method, url, timeout, chunked, **httplib_request_kw)\u001b[0m\n\u001b[1;32m    383\u001b[0m                     \u001b[0;31m# otherwise it looks like a programming error was the cause.\u001b[0m\u001b[0;34m\u001b[0m\u001b[0;34m\u001b[0m\u001b[0;34m\u001b[0m\u001b[0m\n\u001b[0;32m--> 384\u001b[0;31m                     \u001b[0msix\u001b[0m\u001b[0;34m.\u001b[0m\u001b[0mraise_from\u001b[0m\u001b[0;34m(\u001b[0m\u001b[0me\u001b[0m\u001b[0;34m,\u001b[0m \u001b[0;32mNone\u001b[0m\u001b[0;34m)\u001b[0m\u001b[0;34m\u001b[0m\u001b[0;34m\u001b[0m\u001b[0m\n\u001b[0m\u001b[1;32m    385\u001b[0m         \u001b[0;32mexcept\u001b[0m \u001b[0;34m(\u001b[0m\u001b[0mSocketTimeout\u001b[0m\u001b[0;34m,\u001b[0m \u001b[0mBaseSSLError\u001b[0m\u001b[0;34m,\u001b[0m \u001b[0mSocketError\u001b[0m\u001b[0;34m)\u001b[0m \u001b[0;32mas\u001b[0m \u001b[0me\u001b[0m\u001b[0;34m:\u001b[0m\u001b[0;34m\u001b[0m\u001b[0;34m\u001b[0m\u001b[0m\n",
            "\u001b[0;32m/usr/local/lib/python3.7/dist-packages/urllib3/packages/six.py\u001b[0m in \u001b[0;36mraise_from\u001b[0;34m(value, from_value)\u001b[0m\n",
            "\u001b[0;32m/usr/local/lib/python3.7/dist-packages/urllib3/connectionpool.py\u001b[0m in \u001b[0;36m_make_request\u001b[0;34m(self, conn, method, url, timeout, chunked, **httplib_request_kw)\u001b[0m\n\u001b[1;32m    379\u001b[0m                 \u001b[0;32mtry\u001b[0m\u001b[0;34m:\u001b[0m\u001b[0;34m\u001b[0m\u001b[0;34m\u001b[0m\u001b[0m\n\u001b[0;32m--> 380\u001b[0;31m                     \u001b[0mhttplib_response\u001b[0m \u001b[0;34m=\u001b[0m \u001b[0mconn\u001b[0m\u001b[0;34m.\u001b[0m\u001b[0mgetresponse\u001b[0m\u001b[0;34m(\u001b[0m\u001b[0;34m)\u001b[0m\u001b[0;34m\u001b[0m\u001b[0;34m\u001b[0m\u001b[0m\n\u001b[0m\u001b[1;32m    381\u001b[0m                 \u001b[0;32mexcept\u001b[0m \u001b[0mException\u001b[0m \u001b[0;32mas\u001b[0m \u001b[0me\u001b[0m\u001b[0;34m:\u001b[0m\u001b[0;34m\u001b[0m\u001b[0;34m\u001b[0m\u001b[0m\n",
            "\u001b[0;32m/usr/lib/python3.7/http/client.py\u001b[0m in \u001b[0;36mgetresponse\u001b[0;34m(self)\u001b[0m\n\u001b[1;32m   1372\u001b[0m             \u001b[0;32mtry\u001b[0m\u001b[0;34m:\u001b[0m\u001b[0;34m\u001b[0m\u001b[0;34m\u001b[0m\u001b[0m\n\u001b[0;32m-> 1373\u001b[0;31m                 \u001b[0mresponse\u001b[0m\u001b[0;34m.\u001b[0m\u001b[0mbegin\u001b[0m\u001b[0;34m(\u001b[0m\u001b[0;34m)\u001b[0m\u001b[0;34m\u001b[0m\u001b[0;34m\u001b[0m\u001b[0m\n\u001b[0m\u001b[1;32m   1374\u001b[0m             \u001b[0;32mexcept\u001b[0m \u001b[0mConnectionError\u001b[0m\u001b[0;34m:\u001b[0m\u001b[0;34m\u001b[0m\u001b[0;34m\u001b[0m\u001b[0m\n",
            "\u001b[0;32m/usr/lib/python3.7/http/client.py\u001b[0m in \u001b[0;36mbegin\u001b[0;34m(self)\u001b[0m\n\u001b[1;32m    318\u001b[0m         \u001b[0;32mwhile\u001b[0m \u001b[0;32mTrue\u001b[0m\u001b[0;34m:\u001b[0m\u001b[0;34m\u001b[0m\u001b[0;34m\u001b[0m\u001b[0m\n\u001b[0;32m--> 319\u001b[0;31m             \u001b[0mversion\u001b[0m\u001b[0;34m,\u001b[0m \u001b[0mstatus\u001b[0m\u001b[0;34m,\u001b[0m \u001b[0mreason\u001b[0m \u001b[0;34m=\u001b[0m \u001b[0mself\u001b[0m\u001b[0;34m.\u001b[0m\u001b[0m_read_status\u001b[0m\u001b[0;34m(\u001b[0m\u001b[0;34m)\u001b[0m\u001b[0;34m\u001b[0m\u001b[0;34m\u001b[0m\u001b[0m\n\u001b[0m\u001b[1;32m    320\u001b[0m             \u001b[0;32mif\u001b[0m \u001b[0mstatus\u001b[0m \u001b[0;34m!=\u001b[0m \u001b[0mCONTINUE\u001b[0m\u001b[0;34m:\u001b[0m\u001b[0;34m\u001b[0m\u001b[0;34m\u001b[0m\u001b[0m\n",
            "\u001b[0;32m/usr/lib/python3.7/http/client.py\u001b[0m in \u001b[0;36m_read_status\u001b[0;34m(self)\u001b[0m\n\u001b[1;32m    279\u001b[0m     \u001b[0;32mdef\u001b[0m \u001b[0m_read_status\u001b[0m\u001b[0;34m(\u001b[0m\u001b[0mself\u001b[0m\u001b[0;34m)\u001b[0m\u001b[0;34m:\u001b[0m\u001b[0;34m\u001b[0m\u001b[0;34m\u001b[0m\u001b[0m\n\u001b[0;32m--> 280\u001b[0;31m         \u001b[0mline\u001b[0m \u001b[0;34m=\u001b[0m \u001b[0mstr\u001b[0m\u001b[0;34m(\u001b[0m\u001b[0mself\u001b[0m\u001b[0;34m.\u001b[0m\u001b[0mfp\u001b[0m\u001b[0;34m.\u001b[0m\u001b[0mreadline\u001b[0m\u001b[0;34m(\u001b[0m\u001b[0m_MAXLINE\u001b[0m \u001b[0;34m+\u001b[0m \u001b[0;36m1\u001b[0m\u001b[0;34m)\u001b[0m\u001b[0;34m,\u001b[0m \u001b[0;34m\"iso-8859-1\"\u001b[0m\u001b[0;34m)\u001b[0m\u001b[0;34m\u001b[0m\u001b[0;34m\u001b[0m\u001b[0m\n\u001b[0m\u001b[1;32m    281\u001b[0m         \u001b[0;32mif\u001b[0m \u001b[0mlen\u001b[0m\u001b[0;34m(\u001b[0m\u001b[0mline\u001b[0m\u001b[0;34m)\u001b[0m \u001b[0;34m>\u001b[0m \u001b[0m_MAXLINE\u001b[0m\u001b[0;34m:\u001b[0m\u001b[0;34m\u001b[0m\u001b[0;34m\u001b[0m\u001b[0m\n",
            "\u001b[0;32m/usr/lib/python3.7/socket.py\u001b[0m in \u001b[0;36mreadinto\u001b[0;34m(self, b)\u001b[0m\n\u001b[1;32m    588\u001b[0m             \u001b[0;32mtry\u001b[0m\u001b[0;34m:\u001b[0m\u001b[0;34m\u001b[0m\u001b[0;34m\u001b[0m\u001b[0m\n\u001b[0;32m--> 589\u001b[0;31m                 \u001b[0;32mreturn\u001b[0m \u001b[0mself\u001b[0m\u001b[0;34m.\u001b[0m\u001b[0m_sock\u001b[0m\u001b[0;34m.\u001b[0m\u001b[0mrecv_into\u001b[0m\u001b[0;34m(\u001b[0m\u001b[0mb\u001b[0m\u001b[0;34m)\u001b[0m\u001b[0;34m\u001b[0m\u001b[0;34m\u001b[0m\u001b[0m\n\u001b[0m\u001b[1;32m    590\u001b[0m             \u001b[0;32mexcept\u001b[0m \u001b[0mtimeout\u001b[0m\u001b[0;34m:\u001b[0m\u001b[0;34m\u001b[0m\u001b[0;34m\u001b[0m\u001b[0m\n",
            "\u001b[0;32m/usr/lib/python3.7/ssl.py\u001b[0m in \u001b[0;36mrecv_into\u001b[0;34m(self, buffer, nbytes, flags)\u001b[0m\n\u001b[1;32m   1070\u001b[0m                   self.__class__)\n\u001b[0;32m-> 1071\u001b[0;31m             \u001b[0;32mreturn\u001b[0m \u001b[0mself\u001b[0m\u001b[0;34m.\u001b[0m\u001b[0mread\u001b[0m\u001b[0;34m(\u001b[0m\u001b[0mnbytes\u001b[0m\u001b[0;34m,\u001b[0m \u001b[0mbuffer\u001b[0m\u001b[0;34m)\u001b[0m\u001b[0;34m\u001b[0m\u001b[0;34m\u001b[0m\u001b[0m\n\u001b[0m\u001b[1;32m   1072\u001b[0m         \u001b[0;32melse\u001b[0m\u001b[0;34m:\u001b[0m\u001b[0;34m\u001b[0m\u001b[0;34m\u001b[0m\u001b[0m\n",
            "\u001b[0;32m/usr/lib/python3.7/ssl.py\u001b[0m in \u001b[0;36mread\u001b[0;34m(self, len, buffer)\u001b[0m\n\u001b[1;32m    928\u001b[0m             \u001b[0;32mif\u001b[0m \u001b[0mbuffer\u001b[0m \u001b[0;32mis\u001b[0m \u001b[0;32mnot\u001b[0m \u001b[0;32mNone\u001b[0m\u001b[0;34m:\u001b[0m\u001b[0;34m\u001b[0m\u001b[0;34m\u001b[0m\u001b[0m\n\u001b[0;32m--> 929\u001b[0;31m                 \u001b[0;32mreturn\u001b[0m \u001b[0mself\u001b[0m\u001b[0;34m.\u001b[0m\u001b[0m_sslobj\u001b[0m\u001b[0;34m.\u001b[0m\u001b[0mread\u001b[0m\u001b[0;34m(\u001b[0m\u001b[0mlen\u001b[0m\u001b[0;34m,\u001b[0m \u001b[0mbuffer\u001b[0m\u001b[0;34m)\u001b[0m\u001b[0;34m\u001b[0m\u001b[0;34m\u001b[0m\u001b[0m\n\u001b[0m\u001b[1;32m    930\u001b[0m             \u001b[0;32melse\u001b[0m\u001b[0;34m:\u001b[0m\u001b[0;34m\u001b[0m\u001b[0;34m\u001b[0m\u001b[0m\n",
            "\u001b[0;31mProtocolError\u001b[0m: ('Connection aborted.', ConnectionResetError(104, 'Connection reset by peer'))",
            "\nDuring handling of the above exception, another exception occurred:\n",
            "\u001b[0;31mConnectionError\u001b[0m                           Traceback (most recent call last)",
            "\u001b[0;32m/usr/local/lib/python3.7/dist-packages/tweepy/binder.py\u001b[0m in \u001b[0;36mexecute\u001b[0;34m(self)\u001b[0m\n\u001b[1;32m    189\u001b[0m                                                 \u001b[0mauth\u001b[0m\u001b[0;34m=\u001b[0m\u001b[0mauth\u001b[0m\u001b[0;34m,\u001b[0m\u001b[0;34m\u001b[0m\u001b[0;34m\u001b[0m\u001b[0m\n\u001b[0;32m--> 190\u001b[0;31m                                                 proxies=self.api.proxy)\n\u001b[0m\u001b[1;32m    191\u001b[0m                 \u001b[0;32mexcept\u001b[0m \u001b[0mException\u001b[0m \u001b[0;32mas\u001b[0m \u001b[0me\u001b[0m\u001b[0;34m:\u001b[0m\u001b[0;34m\u001b[0m\u001b[0;34m\u001b[0m\u001b[0m\n",
            "\u001b[0;32m/usr/local/lib/python3.7/dist-packages/requests/sessions.py\u001b[0m in \u001b[0;36mrequest\u001b[0;34m(self, method, url, params, data, headers, cookies, files, auth, timeout, allow_redirects, proxies, hooks, stream, verify, cert, json)\u001b[0m\n\u001b[1;32m    529\u001b[0m         \u001b[0msend_kwargs\u001b[0m\u001b[0;34m.\u001b[0m\u001b[0mupdate\u001b[0m\u001b[0;34m(\u001b[0m\u001b[0msettings\u001b[0m\u001b[0;34m)\u001b[0m\u001b[0;34m\u001b[0m\u001b[0;34m\u001b[0m\u001b[0m\n\u001b[0;32m--> 530\u001b[0;31m         \u001b[0mresp\u001b[0m \u001b[0;34m=\u001b[0m \u001b[0mself\u001b[0m\u001b[0;34m.\u001b[0m\u001b[0msend\u001b[0m\u001b[0;34m(\u001b[0m\u001b[0mprep\u001b[0m\u001b[0;34m,\u001b[0m \u001b[0;34m**\u001b[0m\u001b[0msend_kwargs\u001b[0m\u001b[0;34m)\u001b[0m\u001b[0;34m\u001b[0m\u001b[0;34m\u001b[0m\u001b[0m\n\u001b[0m\u001b[1;32m    531\u001b[0m \u001b[0;34m\u001b[0m\u001b[0m\n",
            "\u001b[0;32m/usr/local/lib/python3.7/dist-packages/requests/sessions.py\u001b[0m in \u001b[0;36msend\u001b[0;34m(self, request, **kwargs)\u001b[0m\n\u001b[1;32m    642\u001b[0m         \u001b[0;31m# Send the request\u001b[0m\u001b[0;34m\u001b[0m\u001b[0;34m\u001b[0m\u001b[0;34m\u001b[0m\u001b[0m\n\u001b[0;32m--> 643\u001b[0;31m         \u001b[0mr\u001b[0m \u001b[0;34m=\u001b[0m \u001b[0madapter\u001b[0m\u001b[0;34m.\u001b[0m\u001b[0msend\u001b[0m\u001b[0;34m(\u001b[0m\u001b[0mrequest\u001b[0m\u001b[0;34m,\u001b[0m \u001b[0;34m**\u001b[0m\u001b[0mkwargs\u001b[0m\u001b[0;34m)\u001b[0m\u001b[0;34m\u001b[0m\u001b[0;34m\u001b[0m\u001b[0m\n\u001b[0m\u001b[1;32m    644\u001b[0m \u001b[0;34m\u001b[0m\u001b[0m\n",
            "\u001b[0;32m/usr/local/lib/python3.7/dist-packages/requests/adapters.py\u001b[0m in \u001b[0;36msend\u001b[0;34m(self, request, stream, timeout, verify, cert, proxies)\u001b[0m\n\u001b[1;32m    497\u001b[0m         \u001b[0;32mexcept\u001b[0m \u001b[0;34m(\u001b[0m\u001b[0mProtocolError\u001b[0m\u001b[0;34m,\u001b[0m \u001b[0msocket\u001b[0m\u001b[0;34m.\u001b[0m\u001b[0merror\u001b[0m\u001b[0;34m)\u001b[0m \u001b[0;32mas\u001b[0m \u001b[0merr\u001b[0m\u001b[0;34m:\u001b[0m\u001b[0;34m\u001b[0m\u001b[0;34m\u001b[0m\u001b[0m\n\u001b[0;32m--> 498\u001b[0;31m             \u001b[0;32mraise\u001b[0m \u001b[0mConnectionError\u001b[0m\u001b[0;34m(\u001b[0m\u001b[0merr\u001b[0m\u001b[0;34m,\u001b[0m \u001b[0mrequest\u001b[0m\u001b[0;34m=\u001b[0m\u001b[0mrequest\u001b[0m\u001b[0;34m)\u001b[0m\u001b[0;34m\u001b[0m\u001b[0;34m\u001b[0m\u001b[0m\n\u001b[0m\u001b[1;32m    499\u001b[0m \u001b[0;34m\u001b[0m\u001b[0m\n",
            "\u001b[0;31mConnectionError\u001b[0m: ('Connection aborted.', ConnectionResetError(104, 'Connection reset by peer'))",
            "\nDuring handling of the above exception, another exception occurred:\n",
            "\u001b[0;31mTweepError\u001b[0m                                Traceback (most recent call last)",
            "\u001b[0;32m<ipython-input-9-af76455ce148>\u001b[0m in \u001b[0;36m<module>\u001b[0;34m()\u001b[0m\n\u001b[1;32m     10\u001b[0m \u001b[0;31m# f.write(\"compound,created_at,retweet_count\\n\")\u001b[0m\u001b[0;34m\u001b[0m\u001b[0;34m\u001b[0m\u001b[0;34m\u001b[0m\u001b[0m\n\u001b[1;32m     11\u001b[0m \u001b[0;34m\u001b[0m\u001b[0m\n\u001b[0;32m---> 12\u001b[0;31m \u001b[0;32mfor\u001b[0m \u001b[0mtweet\u001b[0m \u001b[0;32min\u001b[0m \u001b[0mtweets\u001b[0m\u001b[0;34m:\u001b[0m\u001b[0;34m\u001b[0m\u001b[0;34m\u001b[0m\u001b[0m\n\u001b[0m\u001b[1;32m     13\u001b[0m   \u001b[0;32mif\u001b[0m \u001b[0mtweet\u001b[0m\u001b[0;34m.\u001b[0m\u001b[0mretweet_count\u001b[0m \u001b[0;34m<\u001b[0m \u001b[0;36m100\u001b[0m\u001b[0;34m:\u001b[0m\u001b[0;34m\u001b[0m\u001b[0;34m\u001b[0m\u001b[0m\n\u001b[1;32m     14\u001b[0m     \u001b[0;32mcontinue\u001b[0m\u001b[0;34m\u001b[0m\u001b[0;34m\u001b[0m\u001b[0m\n",
            "\u001b[0;32m/usr/local/lib/python3.7/dist-packages/tweepy/cursor.py\u001b[0m in \u001b[0;36m__next__\u001b[0;34m(self)\u001b[0m\n\u001b[1;32m     49\u001b[0m \u001b[0;34m\u001b[0m\u001b[0m\n\u001b[1;32m     50\u001b[0m     \u001b[0;32mdef\u001b[0m \u001b[0m__next__\u001b[0m\u001b[0;34m(\u001b[0m\u001b[0mself\u001b[0m\u001b[0;34m)\u001b[0m\u001b[0;34m:\u001b[0m\u001b[0;34m\u001b[0m\u001b[0;34m\u001b[0m\u001b[0m\n\u001b[0;32m---> 51\u001b[0;31m         \u001b[0;32mreturn\u001b[0m \u001b[0mself\u001b[0m\u001b[0;34m.\u001b[0m\u001b[0mnext\u001b[0m\u001b[0;34m(\u001b[0m\u001b[0;34m)\u001b[0m\u001b[0;34m\u001b[0m\u001b[0;34m\u001b[0m\u001b[0m\n\u001b[0m\u001b[1;32m     52\u001b[0m \u001b[0;34m\u001b[0m\u001b[0m\n\u001b[1;32m     53\u001b[0m     \u001b[0;32mdef\u001b[0m \u001b[0mnext\u001b[0m\u001b[0;34m(\u001b[0m\u001b[0mself\u001b[0m\u001b[0;34m)\u001b[0m\u001b[0;34m:\u001b[0m\u001b[0;34m\u001b[0m\u001b[0;34m\u001b[0m\u001b[0m\n",
            "\u001b[0;32m/usr/local/lib/python3.7/dist-packages/tweepy/cursor.py\u001b[0m in \u001b[0;36mnext\u001b[0;34m(self)\u001b[0m\n\u001b[1;32m    241\u001b[0m         \u001b[0;32mif\u001b[0m \u001b[0mself\u001b[0m\u001b[0;34m.\u001b[0m\u001b[0mcurrent_page\u001b[0m \u001b[0;32mis\u001b[0m \u001b[0;32mNone\u001b[0m \u001b[0;32mor\u001b[0m \u001b[0mself\u001b[0m\u001b[0;34m.\u001b[0m\u001b[0mpage_index\u001b[0m \u001b[0;34m==\u001b[0m \u001b[0mlen\u001b[0m\u001b[0;34m(\u001b[0m\u001b[0mself\u001b[0m\u001b[0;34m.\u001b[0m\u001b[0mcurrent_page\u001b[0m\u001b[0;34m)\u001b[0m \u001b[0;34m-\u001b[0m \u001b[0;36m1\u001b[0m\u001b[0;34m:\u001b[0m\u001b[0;34m\u001b[0m\u001b[0;34m\u001b[0m\u001b[0m\n\u001b[1;32m    242\u001b[0m             \u001b[0;31m# Reached end of current page, get the next page...\u001b[0m\u001b[0;34m\u001b[0m\u001b[0;34m\u001b[0m\u001b[0;34m\u001b[0m\u001b[0m\n\u001b[0;32m--> 243\u001b[0;31m             \u001b[0mself\u001b[0m\u001b[0;34m.\u001b[0m\u001b[0mcurrent_page\u001b[0m \u001b[0;34m=\u001b[0m \u001b[0mself\u001b[0m\u001b[0;34m.\u001b[0m\u001b[0mpage_iterator\u001b[0m\u001b[0;34m.\u001b[0m\u001b[0mnext\u001b[0m\u001b[0;34m(\u001b[0m\u001b[0;34m)\u001b[0m\u001b[0;34m\u001b[0m\u001b[0;34m\u001b[0m\u001b[0m\n\u001b[0m\u001b[1;32m    244\u001b[0m             \u001b[0;32mwhile\u001b[0m \u001b[0mlen\u001b[0m\u001b[0;34m(\u001b[0m\u001b[0mself\u001b[0m\u001b[0;34m.\u001b[0m\u001b[0mcurrent_page\u001b[0m\u001b[0;34m)\u001b[0m \u001b[0;34m==\u001b[0m \u001b[0;36m0\u001b[0m\u001b[0;34m:\u001b[0m\u001b[0;34m\u001b[0m\u001b[0;34m\u001b[0m\u001b[0m\n\u001b[1;32m    245\u001b[0m                 \u001b[0mself\u001b[0m\u001b[0;34m.\u001b[0m\u001b[0mcurrent_page\u001b[0m \u001b[0;34m=\u001b[0m \u001b[0mself\u001b[0m\u001b[0;34m.\u001b[0m\u001b[0mpage_iterator\u001b[0m\u001b[0;34m.\u001b[0m\u001b[0mnext\u001b[0m\u001b[0;34m(\u001b[0m\u001b[0;34m)\u001b[0m\u001b[0;34m\u001b[0m\u001b[0;34m\u001b[0m\u001b[0m\n",
            "\u001b[0;32m/usr/local/lib/python3.7/dist-packages/tweepy/cursor.py\u001b[0m in \u001b[0;36mnext\u001b[0;34m(self)\u001b[0m\n\u001b[1;32m    130\u001b[0m \u001b[0;34m\u001b[0m\u001b[0m\n\u001b[1;32m    131\u001b[0m         \u001b[0;32mif\u001b[0m \u001b[0mself\u001b[0m\u001b[0;34m.\u001b[0m\u001b[0mindex\u001b[0m \u001b[0;34m>=\u001b[0m \u001b[0mlen\u001b[0m\u001b[0;34m(\u001b[0m\u001b[0mself\u001b[0m\u001b[0;34m.\u001b[0m\u001b[0mresults\u001b[0m\u001b[0;34m)\u001b[0m \u001b[0;34m-\u001b[0m \u001b[0;36m1\u001b[0m\u001b[0;34m:\u001b[0m\u001b[0;34m\u001b[0m\u001b[0;34m\u001b[0m\u001b[0m\n\u001b[0;32m--> 132\u001b[0;31m             \u001b[0mdata\u001b[0m \u001b[0;34m=\u001b[0m \u001b[0mself\u001b[0m\u001b[0;34m.\u001b[0m\u001b[0mmethod\u001b[0m\u001b[0;34m(\u001b[0m\u001b[0mmax_id\u001b[0m\u001b[0;34m=\u001b[0m\u001b[0mself\u001b[0m\u001b[0;34m.\u001b[0m\u001b[0mmax_id\u001b[0m\u001b[0;34m,\u001b[0m \u001b[0mparser\u001b[0m\u001b[0;34m=\u001b[0m\u001b[0mRawParser\u001b[0m\u001b[0;34m(\u001b[0m\u001b[0;34m)\u001b[0m\u001b[0;34m,\u001b[0m \u001b[0;34m*\u001b[0m\u001b[0mself\u001b[0m\u001b[0;34m.\u001b[0m\u001b[0margs\u001b[0m\u001b[0;34m,\u001b[0m \u001b[0;34m**\u001b[0m\u001b[0mself\u001b[0m\u001b[0;34m.\u001b[0m\u001b[0mkwargs\u001b[0m\u001b[0;34m)\u001b[0m\u001b[0;34m\u001b[0m\u001b[0;34m\u001b[0m\u001b[0m\n\u001b[0m\u001b[1;32m    133\u001b[0m \u001b[0;34m\u001b[0m\u001b[0m\n\u001b[1;32m    134\u001b[0m             \u001b[0;32mif\u001b[0m \u001b[0mhasattr\u001b[0m\u001b[0;34m(\u001b[0m\u001b[0mself\u001b[0m\u001b[0;34m.\u001b[0m\u001b[0mmethod\u001b[0m\u001b[0;34m,\u001b[0m \u001b[0;34m'__self__'\u001b[0m\u001b[0;34m)\u001b[0m\u001b[0;34m:\u001b[0m\u001b[0;34m\u001b[0m\u001b[0;34m\u001b[0m\u001b[0m\n",
            "\u001b[0;32m/usr/local/lib/python3.7/dist-packages/tweepy/binder.py\u001b[0m in \u001b[0;36m_call\u001b[0;34m(*args, **kwargs)\u001b[0m\n\u001b[1;32m    251\u001b[0m                 \u001b[0;32mreturn\u001b[0m \u001b[0mmethod\u001b[0m\u001b[0;34m\u001b[0m\u001b[0;34m\u001b[0m\u001b[0m\n\u001b[1;32m    252\u001b[0m             \u001b[0;32melse\u001b[0m\u001b[0;34m:\u001b[0m\u001b[0;34m\u001b[0m\u001b[0;34m\u001b[0m\u001b[0m\n\u001b[0;32m--> 253\u001b[0;31m                 \u001b[0;32mreturn\u001b[0m \u001b[0mmethod\u001b[0m\u001b[0;34m.\u001b[0m\u001b[0mexecute\u001b[0m\u001b[0;34m(\u001b[0m\u001b[0;34m)\u001b[0m\u001b[0;34m\u001b[0m\u001b[0;34m\u001b[0m\u001b[0m\n\u001b[0m\u001b[1;32m    254\u001b[0m         \u001b[0;32mfinally\u001b[0m\u001b[0;34m:\u001b[0m\u001b[0;34m\u001b[0m\u001b[0;34m\u001b[0m\u001b[0m\n\u001b[1;32m    255\u001b[0m             \u001b[0mmethod\u001b[0m\u001b[0;34m.\u001b[0m\u001b[0msession\u001b[0m\u001b[0;34m.\u001b[0m\u001b[0mclose\u001b[0m\u001b[0;34m(\u001b[0m\u001b[0;34m)\u001b[0m\u001b[0;34m\u001b[0m\u001b[0;34m\u001b[0m\u001b[0m\n",
            "\u001b[0;32m/usr/local/lib/python3.7/dist-packages/tweepy/binder.py\u001b[0m in \u001b[0;36mexecute\u001b[0;34m(self)\u001b[0m\n\u001b[1;32m    190\u001b[0m                                                 proxies=self.api.proxy)\n\u001b[1;32m    191\u001b[0m                 \u001b[0;32mexcept\u001b[0m \u001b[0mException\u001b[0m \u001b[0;32mas\u001b[0m \u001b[0me\u001b[0m\u001b[0;34m:\u001b[0m\u001b[0;34m\u001b[0m\u001b[0;34m\u001b[0m\u001b[0m\n\u001b[0;32m--> 192\u001b[0;31m                     \u001b[0msix\u001b[0m\u001b[0;34m.\u001b[0m\u001b[0mreraise\u001b[0m\u001b[0;34m(\u001b[0m\u001b[0mTweepError\u001b[0m\u001b[0;34m,\u001b[0m \u001b[0mTweepError\u001b[0m\u001b[0;34m(\u001b[0m\u001b[0;34m'Failed to send request: %s'\u001b[0m \u001b[0;34m%\u001b[0m \u001b[0me\u001b[0m\u001b[0;34m)\u001b[0m\u001b[0;34m,\u001b[0m \u001b[0msys\u001b[0m\u001b[0;34m.\u001b[0m\u001b[0mexc_info\u001b[0m\u001b[0;34m(\u001b[0m\u001b[0;34m)\u001b[0m\u001b[0;34m[\u001b[0m\u001b[0;36m2\u001b[0m\u001b[0;34m]\u001b[0m\u001b[0;34m)\u001b[0m\u001b[0;34m\u001b[0m\u001b[0;34m\u001b[0m\u001b[0m\n\u001b[0m\u001b[1;32m    193\u001b[0m \u001b[0;34m\u001b[0m\u001b[0m\n\u001b[1;32m    194\u001b[0m                 \u001b[0mrem_calls\u001b[0m \u001b[0;34m=\u001b[0m \u001b[0mresp\u001b[0m\u001b[0;34m.\u001b[0m\u001b[0mheaders\u001b[0m\u001b[0;34m.\u001b[0m\u001b[0mget\u001b[0m\u001b[0;34m(\u001b[0m\u001b[0;34m'x-rate-limit-remaining'\u001b[0m\u001b[0;34m)\u001b[0m\u001b[0;34m\u001b[0m\u001b[0;34m\u001b[0m\u001b[0m\n",
            "\u001b[0;32m/usr/local/lib/python3.7/dist-packages/six.py\u001b[0m in \u001b[0;36mreraise\u001b[0;34m(tp, value, tb)\u001b[0m\n\u001b[1;32m    700\u001b[0m                 \u001b[0mvalue\u001b[0m \u001b[0;34m=\u001b[0m \u001b[0mtp\u001b[0m\u001b[0;34m(\u001b[0m\u001b[0;34m)\u001b[0m\u001b[0;34m\u001b[0m\u001b[0;34m\u001b[0m\u001b[0m\n\u001b[1;32m    701\u001b[0m             \u001b[0;32mif\u001b[0m \u001b[0mvalue\u001b[0m\u001b[0;34m.\u001b[0m\u001b[0m__traceback__\u001b[0m \u001b[0;32mis\u001b[0m \u001b[0;32mnot\u001b[0m \u001b[0mtb\u001b[0m\u001b[0;34m:\u001b[0m\u001b[0;34m\u001b[0m\u001b[0;34m\u001b[0m\u001b[0m\n\u001b[0;32m--> 702\u001b[0;31m                 \u001b[0;32mraise\u001b[0m \u001b[0mvalue\u001b[0m\u001b[0;34m.\u001b[0m\u001b[0mwith_traceback\u001b[0m\u001b[0;34m(\u001b[0m\u001b[0mtb\u001b[0m\u001b[0;34m)\u001b[0m\u001b[0;34m\u001b[0m\u001b[0;34m\u001b[0m\u001b[0m\n\u001b[0m\u001b[1;32m    703\u001b[0m             \u001b[0;32mraise\u001b[0m \u001b[0mvalue\u001b[0m\u001b[0;34m\u001b[0m\u001b[0;34m\u001b[0m\u001b[0m\n\u001b[1;32m    704\u001b[0m         \u001b[0;32mfinally\u001b[0m\u001b[0;34m:\u001b[0m\u001b[0;34m\u001b[0m\u001b[0;34m\u001b[0m\u001b[0m\n",
            "\u001b[0;32m/usr/local/lib/python3.7/dist-packages/tweepy/binder.py\u001b[0m in \u001b[0;36mexecute\u001b[0;34m(self)\u001b[0m\n\u001b[1;32m    188\u001b[0m                                                 \u001b[0mtimeout\u001b[0m\u001b[0;34m=\u001b[0m\u001b[0mself\u001b[0m\u001b[0;34m.\u001b[0m\u001b[0mapi\u001b[0m\u001b[0;34m.\u001b[0m\u001b[0mtimeout\u001b[0m\u001b[0;34m,\u001b[0m\u001b[0;34m\u001b[0m\u001b[0;34m\u001b[0m\u001b[0m\n\u001b[1;32m    189\u001b[0m                                                 \u001b[0mauth\u001b[0m\u001b[0;34m=\u001b[0m\u001b[0mauth\u001b[0m\u001b[0;34m,\u001b[0m\u001b[0;34m\u001b[0m\u001b[0;34m\u001b[0m\u001b[0m\n\u001b[0;32m--> 190\u001b[0;31m                                                 proxies=self.api.proxy)\n\u001b[0m\u001b[1;32m    191\u001b[0m                 \u001b[0;32mexcept\u001b[0m \u001b[0mException\u001b[0m \u001b[0;32mas\u001b[0m \u001b[0me\u001b[0m\u001b[0;34m:\u001b[0m\u001b[0;34m\u001b[0m\u001b[0;34m\u001b[0m\u001b[0m\n\u001b[1;32m    192\u001b[0m                     \u001b[0msix\u001b[0m\u001b[0;34m.\u001b[0m\u001b[0mreraise\u001b[0m\u001b[0;34m(\u001b[0m\u001b[0mTweepError\u001b[0m\u001b[0;34m,\u001b[0m \u001b[0mTweepError\u001b[0m\u001b[0;34m(\u001b[0m\u001b[0;34m'Failed to send request: %s'\u001b[0m \u001b[0;34m%\u001b[0m \u001b[0me\u001b[0m\u001b[0;34m)\u001b[0m\u001b[0;34m,\u001b[0m \u001b[0msys\u001b[0m\u001b[0;34m.\u001b[0m\u001b[0mexc_info\u001b[0m\u001b[0;34m(\u001b[0m\u001b[0;34m)\u001b[0m\u001b[0;34m[\u001b[0m\u001b[0;36m2\u001b[0m\u001b[0;34m]\u001b[0m\u001b[0;34m)\u001b[0m\u001b[0;34m\u001b[0m\u001b[0;34m\u001b[0m\u001b[0m\n",
            "\u001b[0;32m/usr/local/lib/python3.7/dist-packages/requests/sessions.py\u001b[0m in \u001b[0;36mrequest\u001b[0;34m(self, method, url, params, data, headers, cookies, files, auth, timeout, allow_redirects, proxies, hooks, stream, verify, cert, json)\u001b[0m\n\u001b[1;32m    528\u001b[0m         }\n\u001b[1;32m    529\u001b[0m         \u001b[0msend_kwargs\u001b[0m\u001b[0;34m.\u001b[0m\u001b[0mupdate\u001b[0m\u001b[0;34m(\u001b[0m\u001b[0msettings\u001b[0m\u001b[0;34m)\u001b[0m\u001b[0;34m\u001b[0m\u001b[0;34m\u001b[0m\u001b[0m\n\u001b[0;32m--> 530\u001b[0;31m         \u001b[0mresp\u001b[0m \u001b[0;34m=\u001b[0m \u001b[0mself\u001b[0m\u001b[0;34m.\u001b[0m\u001b[0msend\u001b[0m\u001b[0;34m(\u001b[0m\u001b[0mprep\u001b[0m\u001b[0;34m,\u001b[0m \u001b[0;34m**\u001b[0m\u001b[0msend_kwargs\u001b[0m\u001b[0;34m)\u001b[0m\u001b[0;34m\u001b[0m\u001b[0;34m\u001b[0m\u001b[0m\n\u001b[0m\u001b[1;32m    531\u001b[0m \u001b[0;34m\u001b[0m\u001b[0m\n\u001b[1;32m    532\u001b[0m         \u001b[0;32mreturn\u001b[0m \u001b[0mresp\u001b[0m\u001b[0;34m\u001b[0m\u001b[0;34m\u001b[0m\u001b[0m\n",
            "\u001b[0;32m/usr/local/lib/python3.7/dist-packages/requests/sessions.py\u001b[0m in \u001b[0;36msend\u001b[0;34m(self, request, **kwargs)\u001b[0m\n\u001b[1;32m    641\u001b[0m \u001b[0;34m\u001b[0m\u001b[0m\n\u001b[1;32m    642\u001b[0m         \u001b[0;31m# Send the request\u001b[0m\u001b[0;34m\u001b[0m\u001b[0;34m\u001b[0m\u001b[0;34m\u001b[0m\u001b[0m\n\u001b[0;32m--> 643\u001b[0;31m         \u001b[0mr\u001b[0m \u001b[0;34m=\u001b[0m \u001b[0madapter\u001b[0m\u001b[0;34m.\u001b[0m\u001b[0msend\u001b[0m\u001b[0;34m(\u001b[0m\u001b[0mrequest\u001b[0m\u001b[0;34m,\u001b[0m \u001b[0;34m**\u001b[0m\u001b[0mkwargs\u001b[0m\u001b[0;34m)\u001b[0m\u001b[0;34m\u001b[0m\u001b[0;34m\u001b[0m\u001b[0m\n\u001b[0m\u001b[1;32m    644\u001b[0m \u001b[0;34m\u001b[0m\u001b[0m\n\u001b[1;32m    645\u001b[0m         \u001b[0;31m# Total elapsed time of the request (approximately)\u001b[0m\u001b[0;34m\u001b[0m\u001b[0;34m\u001b[0m\u001b[0;34m\u001b[0m\u001b[0m\n",
            "\u001b[0;32m/usr/local/lib/python3.7/dist-packages/requests/adapters.py\u001b[0m in \u001b[0;36msend\u001b[0;34m(self, request, stream, timeout, verify, cert, proxies)\u001b[0m\n\u001b[1;32m    496\u001b[0m \u001b[0;34m\u001b[0m\u001b[0m\n\u001b[1;32m    497\u001b[0m         \u001b[0;32mexcept\u001b[0m \u001b[0;34m(\u001b[0m\u001b[0mProtocolError\u001b[0m\u001b[0;34m,\u001b[0m \u001b[0msocket\u001b[0m\u001b[0;34m.\u001b[0m\u001b[0merror\u001b[0m\u001b[0;34m)\u001b[0m \u001b[0;32mas\u001b[0m \u001b[0merr\u001b[0m\u001b[0;34m:\u001b[0m\u001b[0;34m\u001b[0m\u001b[0;34m\u001b[0m\u001b[0m\n\u001b[0;32m--> 498\u001b[0;31m             \u001b[0;32mraise\u001b[0m \u001b[0mConnectionError\u001b[0m\u001b[0;34m(\u001b[0m\u001b[0merr\u001b[0m\u001b[0;34m,\u001b[0m \u001b[0mrequest\u001b[0m\u001b[0;34m=\u001b[0m\u001b[0mrequest\u001b[0m\u001b[0;34m)\u001b[0m\u001b[0;34m\u001b[0m\u001b[0;34m\u001b[0m\u001b[0m\n\u001b[0m\u001b[1;32m    499\u001b[0m \u001b[0;34m\u001b[0m\u001b[0m\n\u001b[1;32m    500\u001b[0m         \u001b[0;32mexcept\u001b[0m \u001b[0mMaxRetryError\u001b[0m \u001b[0;32mas\u001b[0m \u001b[0me\u001b[0m\u001b[0;34m:\u001b[0m\u001b[0;34m\u001b[0m\u001b[0;34m\u001b[0m\u001b[0m\n",
            "\u001b[0;31mTweepError\u001b[0m: Failed to send request: ('Connection aborted.', ConnectionResetError(104, 'Connection reset by peer'))"
          ]
        }
      ]
    },
    {
      "cell_type": "markdown",
      "source": [
        "Sentiment Analysis"
      ],
      "metadata": {
        "id": "quyxPHbVcXfH"
      }
    },
    {
      "cell_type": "code",
      "source": [
        "import nltk\n",
        "nltk.download('vader_lexicon')\n",
        "\n",
        "#Sentiment Analysis\n",
        "def percentage(part,whole):\n",
        " return 100 * float(part)/float(whole)\n",
        "\n",
        "keyword = \"bitcoin since:2020-04-02\"\n",
        "noOfTweet = 50\n",
        "tweets = tweepy.Cursor(api.search, q=keyword).items(noOfTweet)\n",
        "positive = 0\n",
        "negative = 0\n",
        "neutral = 0\n",
        "polarity = 0\n",
        "tweet_list = []\n",
        "neutral_list = []\n",
        "negative_list = []\n",
        "positive_list = []\n",
        "\n",
        "for tweet in tweets: \n",
        "  tweet_list.append(tweet.text)\n",
        "  analysis = TextBlob(tweet.text)\n",
        "  score = SentimentIntensityAnalyzer().polarity_scores(tweet.text)\n",
        "  print(tweet.favorite_count) # favorite_count does not work\n",
        "  print(tweet.retweet_count)\n",
        "  print(score)\n",
        "  neg = score['neg']\n",
        "  neu = score['neu']\n",
        "  pos = score['pos']\n",
        "  comp = score['compound']\n",
        "  polarity += analysis.sentiment.polarity\n",
        " \n",
        "  if neg > pos:\n",
        "    negative_list.append(tweet.text)\n",
        "    negative += 1\n",
        "  elif pos > neg:\n",
        "    positive_list.append(tweet.text)\n",
        "    positive += 1\n",
        "  elif pos == neg:\n",
        "    neutral_list.append(tweet.text)\n",
        "    neutral += 1\n",
        "\n",
        "positive = percentage(positive, noOfTweet)\n",
        "negative = percentage(negative, noOfTweet)\n",
        "neutral = percentage(neutral, noOfTweet)\n",
        "polarity = percentage(polarity, noOfTweet)\n",
        "positive = format(positive, '.1f')\n",
        "negative = format(negative, '.1f')\n",
        "neutral = format(neutral, '.1f')"
      ],
      "metadata": {
        "id": "8GaooPGhJrqU",
        "colab": {
          "base_uri": "https://localhost:8080/"
        },
        "outputId": "786acbd0-f665-4ab0-d9c3-6246f737da8d"
      },
      "execution_count": null,
      "outputs": [
        {
          "output_type": "stream",
          "name": "stdout",
          "text": [
            "[nltk_data] Downloading package vader_lexicon to /root/nltk_data...\n",
            "[nltk_data]   Package vader_lexicon is already up-to-date!\n",
            "0\n",
            "775\n",
            "{'neg': 0.0, 'neu': 0.728, 'pos': 0.272, 'compound': 0.6808}\n",
            "0\n",
            "0\n",
            "{'neg': 0.0, 'neu': 1.0, 'pos': 0.0, 'compound': 0.0}\n",
            "0\n",
            "0\n",
            "{'neg': 0.0, 'neu': 0.776, 'pos': 0.224, 'compound': 0.5994}\n",
            "0\n",
            "156\n",
            "{'neg': 0.0, 'neu': 1.0, 'pos': 0.0, 'compound': 0.0}\n",
            "0\n",
            "0\n",
            "{'neg': 0.0, 'neu': 1.0, 'pos': 0.0, 'compound': 0.0}\n",
            "0\n",
            "0\n",
            "{'neg': 0.0, 'neu': 0.352, 'pos': 0.648, 'compound': 0.9688}\n",
            "0\n",
            "0\n",
            "{'neg': 0.0, 'neu': 1.0, 'pos': 0.0, 'compound': 0.0}\n",
            "0\n",
            "8594\n",
            "{'neg': 0.0, 'neu': 0.651, 'pos': 0.349, 'compound': 0.9153}\n",
            "0\n",
            "389\n",
            "{'neg': 0.061, 'neu': 0.647, 'pos': 0.292, 'compound': 0.7974}\n",
            "0\n",
            "0\n",
            "{'neg': 0.0, 'neu': 1.0, 'pos': 0.0, 'compound': 0.0}\n",
            "0\n",
            "0\n",
            "{'neg': 0.0, 'neu': 0.726, 'pos': 0.274, 'compound': 0.5267}\n",
            "0\n",
            "0\n",
            "{'neg': 0.0, 'neu': 0.902, 'pos': 0.098, 'compound': 0.0772}\n",
            "0\n",
            "0\n",
            "{'neg': 0.0, 'neu': 1.0, 'pos': 0.0, 'compound': 0.0}\n",
            "0\n",
            "0\n",
            "{'neg': 0.0, 'neu': 1.0, 'pos': 0.0, 'compound': 0.0}\n",
            "0\n",
            "0\n",
            "{'neg': 0.0, 'neu': 1.0, 'pos': 0.0, 'compound': 0.0}\n",
            "0\n",
            "0\n",
            "{'neg': 0.0, 'neu': 0.782, 'pos': 0.218, 'compound': 0.5994}\n",
            "0\n",
            "0\n",
            "{'neg': 0.0, 'neu': 0.87, 'pos': 0.13, 'compound': 0.2732}\n",
            "0\n",
            "324\n",
            "{'neg': 0.0, 'neu': 0.608, 'pos': 0.392, 'compound': 0.9118}\n",
            "0\n",
            "775\n",
            "{'neg': 0.0, 'neu': 0.728, 'pos': 0.272, 'compound': 0.6808}\n",
            "0\n",
            "234\n",
            "{'neg': 0.0, 'neu': 1.0, 'pos': 0.0, 'compound': 0.0}\n",
            "0\n",
            "103\n",
            "{'neg': 0.0, 'neu': 0.86, 'pos': 0.14, 'compound': 0.4767}\n",
            "0\n",
            "403\n",
            "{'neg': 0.0, 'neu': 1.0, 'pos': 0.0, 'compound': 0.0}\n",
            "0\n",
            "0\n",
            "{'neg': 0.0, 'neu': 1.0, 'pos': 0.0, 'compound': 0.0}\n",
            "0\n",
            "0\n",
            "{'neg': 0.0, 'neu': 0.828, 'pos': 0.172, 'compound': 0.4404}\n",
            "0\n",
            "2\n",
            "{'neg': 0.0, 'neu': 1.0, 'pos': 0.0, 'compound': 0.0}\n",
            "0\n",
            "50\n",
            "{'neg': 0.0, 'neu': 1.0, 'pos': 0.0, 'compound': 0.0}\n",
            "1\n",
            "0\n",
            "{'neg': 0.121, 'neu': 0.879, 'pos': 0.0, 'compound': -0.296}\n",
            "0\n",
            "12\n",
            "{'neg': 0.0, 'neu': 1.0, 'pos': 0.0, 'compound': 0.0}\n",
            "0\n",
            "0\n",
            "{'neg': 0.0, 'neu': 1.0, 'pos': 0.0, 'compound': 0.0}\n",
            "0\n",
            "405\n",
            "{'neg': 0.0, 'neu': 0.855, 'pos': 0.145, 'compound': 0.296}\n",
            "0\n",
            "0\n",
            "{'neg': 0.0, 'neu': 1.0, 'pos': 0.0, 'compound': 0.0}\n",
            "0\n",
            "0\n",
            "{'neg': 0.072, 'neu': 0.928, 'pos': 0.0, 'compound': -0.1027}\n",
            "0\n",
            "0\n",
            "{'neg': 0.0, 'neu': 1.0, 'pos': 0.0, 'compound': 0.0}\n",
            "0\n",
            "0\n",
            "{'neg': 0.0, 'neu': 0.852, 'pos': 0.148, 'compound': 0.5106}\n",
            "0\n",
            "518\n",
            "{'neg': 0.051, 'neu': 0.949, 'pos': 0.0, 'compound': -0.0191}\n",
            "0\n",
            "122\n",
            "{'neg': 0.0, 'neu': 0.888, 'pos': 0.112, 'compound': 0.2263}\n",
            "0\n",
            "0\n",
            "{'neg': 0.185, 'neu': 0.815, 'pos': 0.0, 'compound': -0.3595}\n",
            "0\n",
            "0\n",
            "{'neg': 0.0, 'neu': 0.796, 'pos': 0.204, 'compound': 0.5562}\n",
            "0\n",
            "27352\n",
            "{'neg': 0.044, 'neu': 0.615, 'pos': 0.341, 'compound': 0.8269}\n",
            "0\n",
            "0\n",
            "{'neg': 0.0, 'neu': 1.0, 'pos': 0.0, 'compound': 0.0}\n",
            "0\n",
            "664\n",
            "{'neg': 0.22, 'neu': 0.78, 'pos': 0.0, 'compound': -0.5859}\n",
            "0\n",
            "7\n",
            "{'neg': 0.0, 'neu': 0.791, 'pos': 0.209, 'compound': 0.6771}\n",
            "0\n",
            "7\n",
            "{'neg': 0.0, 'neu': 0.791, 'pos': 0.209, 'compound': 0.6771}\n",
            "0\n",
            "0\n",
            "{'neg': 0.0, 'neu': 1.0, 'pos': 0.0, 'compound': 0.0}\n",
            "0\n",
            "6\n",
            "{'neg': 0.167, 'neu': 0.833, 'pos': 0.0, 'compound': -0.296}\n",
            "0\n",
            "0\n",
            "{'neg': 0.0, 'neu': 1.0, 'pos': 0.0, 'compound': 0.0}\n",
            "0\n",
            "27352\n",
            "{'neg': 0.044, 'neu': 0.615, 'pos': 0.341, 'compound': 0.8269}\n",
            "0\n",
            "5\n",
            "{'neg': 0.158, 'neu': 0.779, 'pos': 0.064, 'compound': -0.5647}\n",
            "0\n",
            "5\n",
            "{'neg': 0.0, 'neu': 1.0, 'pos': 0.0, 'compound': 0.0}\n",
            "0\n",
            "568\n",
            "{'neg': 0.0, 'neu': 1.0, 'pos': 0.0, 'compound': 0.0}\n"
          ]
        }
      ]
    },
    {
      "cell_type": "code",
      "source": [
        "import nltk\n",
        "nltk.download('vader_lexicon')\n",
        "\n",
        "#Sentiment Analysis\n",
        "def percentage(part,whole):\n",
        " return 100 * float(part)/float(whole)\n",
        "\n",
        "keyword = \"bitcoin\"\n",
        "noOfTweet = 50\n",
        "# tweets = [\" \".join(['today', 'isnt', 'lotst', 'worst'])]\n",
        "tweets = [\"today is the worst day\"]\n",
        "positive = 0\n",
        "negative = 0\n",
        "neutral = 0\n",
        "polarity = 0\n",
        "tweet_list = []\n",
        "neutral_list = []\n",
        "negative_list = []\n",
        "positive_list = []\n",
        "\n",
        "for tweet in tweets: \n",
        "  print(tweet)\n",
        "  tweet_list.append(tweet)\n",
        "  analysis = TextBlob(tweet)\n",
        "  score = SentimentIntensityAnalyzer().polarity_scores(tweet)\n",
        "  print(score)\n",
        "  neg = score['neg']\n",
        "  neu = score['neu']\n",
        "  pos = score['pos']\n",
        "  comp = score['compound']\n",
        "  polarity += analysis.sentiment.polarity\n",
        " \n",
        "  if neg > pos:\n",
        "    negative_list.append(tweet)\n",
        "    negative += 1\n",
        "  elif pos > neg:\n",
        "    positive_list.append(tweet)\n",
        "    positive += 1\n",
        "  elif pos == neg:\n",
        "    neutral_list.append(tweet)\n",
        "    neutral += 1\n",
        "\n",
        "positive = percentage(positive, noOfTweet)\n",
        "negative = percentage(negative, noOfTweet)\n",
        "neutral = percentage(neutral, noOfTweet)\n",
        "polarity = percentage(polarity, noOfTweet)\n",
        "positive = format(positive, '.1f')\n",
        "negative = format(negative, '.1f')\n",
        "neutral = format(neutral, '.1f')"
      ],
      "metadata": {
        "colab": {
          "base_uri": "https://localhost:8080/"
        },
        "id": "id7Mp9cgBHmF",
        "outputId": "a886f74e-86ba-4d02-9767-455e5163cbe8"
      },
      "execution_count": null,
      "outputs": [
        {
          "output_type": "stream",
          "name": "stdout",
          "text": [
            "[nltk_data] Downloading package vader_lexicon to /root/nltk_data...\n",
            "[nltk_data]   Package vader_lexicon is already up-to-date!\n",
            "today is the worst day\n",
            "{'neg': 0.506, 'neu': 0.494, 'pos': 0.0, 'compound': -0.6249}\n"
          ]
        }
      ]
    },
    {
      "cell_type": "markdown",
      "source": [
        "Spark Version"
      ],
      "metadata": {
        "id": "_3iVwXTOa1bL"
      }
    },
    {
      "cell_type": "code",
      "source": [
        "import nltk\n",
        "nltk.download('vader_lexicon')\n",
        "\n",
        "#Sentiment Analysis\n",
        "def percentage(part,whole):\n",
        " return 100 * float(part)/float(whole)\n",
        "\n",
        "keyword = \"bitcoin since:2020-04-02\"\n",
        "noOfTweet = 50\n",
        "tweets = tweepy.Cursor(api.search, q=keyword).items(noOfTweet)\n",
        "positive = 0\n",
        "negative = 0\n",
        "neutral = 0\n",
        "polarity = 0\n",
        "tweet_list = []\n",
        "neutral_list = []\n",
        "negative_list = []\n",
        "positive_list = []\n",
        "\n",
        "for tweet in tweets: \n",
        "  tweet_list.append(tweet.text)\n",
        "  analysis = TextBlob(tweet.text)\n",
        "  score = SentimentIntensityAnalyzer().polarity_scores(tweet.text)\n",
        "  print(tweet.created_at)\n",
        "  print(score)\n",
        "  neg = score['neg']\n",
        "  neu = score['neu']\n",
        "  pos = score['pos']\n",
        "  comp = score['compound']\n",
        "  polarity += analysis.sentiment.polarity\n",
        " \n",
        "  if neg > pos:\n",
        "    negative_list.append(tweet.text)\n",
        "    negative += 1\n",
        "  elif pos > neg:\n",
        "    positive_list.append(tweet.text)\n",
        "    positive += 1\n",
        "  elif pos == neg:\n",
        "    neutral_list.append(tweet.text)\n",
        "    neutral += 1\n",
        "\n",
        "positive = percentage(positive, noOfTweet)\n",
        "negative = percentage(negative, noOfTweet)\n",
        "neutral = percentage(neutral, noOfTweet)\n",
        "polarity = percentage(polarity, noOfTweet)\n",
        "positive = format(positive, '.1f')\n",
        "negative = format(negative, '.1f')\n",
        "neutral = format(neutral, '.1f')"
      ],
      "metadata": {
        "id": "a3LdjYTqa0Sg"
      },
      "execution_count": null,
      "outputs": []
    },
    {
      "cell_type": "code",
      "source": [
        "#Number of Tweets (Total, Positive, Negative, Neutral)\n",
        "tweet_list = pd.DataFrame(tweet_list)\n",
        "neutral_list = pd.DataFrame(neutral_list)\n",
        "negative_list = pd.DataFrame(negative_list)\n",
        "positive_list = pd.DataFrame(positive_list)\n",
        "print(\"total number: \",len(tweet_list))\n",
        "print(\"positive number: \",len(positive_list))\n",
        "print(\"negative number: \", len(negative_list))\n",
        "print(\"neutral number: \",len(neutral_list))"
      ],
      "metadata": {
        "colab": {
          "base_uri": "https://localhost:8080/"
        },
        "id": "rkalmRicPXLK",
        "outputId": "0f209616-76c6-42b5-8a75-ff3458383d7a"
      },
      "execution_count": null,
      "outputs": [
        {
          "output_type": "stream",
          "name": "stdout",
          "text": [
            "total number:  50\n",
            "positive number:  15\n",
            "negative number:  10\n",
            "neutral number:  25\n"
          ]
        }
      ]
    },
    {
      "cell_type": "code",
      "source": [
        "tweet_list"
      ],
      "metadata": {
        "colab": {
          "base_uri": "https://localhost:8080/",
          "height": 641
        },
        "id": "n5PTFsquPhw3",
        "outputId": "54fc0237-7e69-4b3a-d806-ddc19aee194d"
      },
      "execution_count": null,
      "outputs": [
        {
          "output_type": "execute_result",
          "data": {
            "text/plain": [
              "                                                    0\n",
              "0   RT @Jayecane: I badly need to send 8 people mo...\n",
              "1   RT @Jayecane: I badly need to send 8 people mo...\n",
              "2   @MichellePhan @CashApp $RBaiZa #Bitcoin #bitco...\n",
              "3   RT @Jayecane: I badly need to send 8 people mo...\n",
              "4   RT @Coinimparator: #Coinimparator ve ailesi yi...\n",
              "5   RT @Jayecane: I badly need to send 8 people mo...\n",
              "6   Bitcoin and Gold have gone up a bit, #xrp has ...\n",
              "7   RT @loopstarter: Take the power of the collect...\n",
              "8   The strongest bullish signal has broken out fo...\n",
              "9   Now that I agree with #Bitcoin you can’t chang...\n",
              "10  @MrBigWhaleREAL @bbtc Vitteey MEXC Don't Miss ...\n",
              "11  RT @BitcoinMagazine: NEW - U.S. Senate Candida...\n",
              "12  @MichellePhan @CashApp $Myknikes19 #BitcoinPle...\n",
              "13  RT @naiivememe: @saylor @SecYellen #Bitcoin ht...\n",
              "14  RT @rovercrc: #BITCOIN TO $50,000 THIS WEEK, O...\n",
              "15  RT @CakirbeyNusret: 💥Arkadaşlar Kar Realize Et...\n",
              "16  RT @MitchRayTA: #ATOM \"Moon soon\" variables fu...\n",
              "17  RT @BscPitbull: Metrics are on the moon🌙 #Pitb...\n",
              "18  RT @healthy_pockets: Simplemente #Bitcoin \\n\\n...\n",
              "19  @WendyRogersAZ Did you do your own research ab...\n",
              "20  RT @stanmilc: 📲@CryptoHawkAI Long-Short: \\n\\n🚨...\n",
              "21  RT @BBCWorld: Russia considers accepting Bitco...\n",
              "22  @stevedabitcoin aynen abi bitcoin marsa falan ...\n",
              "23  RT @Jayecane: I badly need to send 8 people mo...\n",
              "24  @MichellePhan @CashApp $jennmoney17 #bitcoinpl...\n",
              "25  RT @ksknkripto: Ayı kardeşler bi kalkın birşey...\n",
              "26  RT @DocumentingBTC: In 8 days, the 19,000,000t...\n",
              "27  RT @Jayecane: I badly need to send 8 people mo...\n",
              "28  RT @DWhitmanBTC: Opt out of this giant Ponzi \\...\n",
              "29  RT @MichellePhan: I’ve teamed up with @cashapp...\n",
              "30  @MichellePhan @CashApp $ZynnyZyn #bitcoinpleas...\n",
              "31  RT @MichellePhan: I’ve teamed up with @cashapp...\n",
              "32  RT @Crypto_Airport: @CoinMarketCap Comeeee onn...\n",
              "33  RT @Arthur_van_Pelt: BREAKING: \\n\\nBitcoin dev...\n",
              "34  @nftjuno https://t.co/V60nwJE1nL \\n\\n#NFTCommu...\n",
              "35  RT @portal_finance: 🔥 The #Portal project is a...\n",
              "36  RT @CoinLejyon: #Bitcoin ile birlikte #Btc dom...\n",
              "37  @MichellePhan @CashApp $BigBeast69 #Bitcoin #b...\n",
              "38  RT @DenevaAni: JUST IN: Bitcoin of America has...\n",
              "39  RT @ReiRubroNegro: @leandroruschel @elonmusk E...\n",
              "40  RT @RicardoBSalinas: Muchas gracias por tan am...\n",
              "41  @nypost I never thought of meeting a legit bit...\n",
              "42  Rusya, petrol ve gaz satışını Bitcoin ile sağl...\n",
              "43  @MichellePhan @CashApp $btejeda #bitcoinplease...\n",
              "44  4.) You can trustlessly earn yield through sta...\n",
              "45  RT @ramiberlin: @realSologenic @xrpstik #xSTIK...\n",
              "46  RT @westkripto: #Stepn’den ettiğim kârı bugün ...\n",
              "47  🤣 Canada way ahead of Russia on this one #Bitc...\n",
              "48  Come in now and don't BE LATE #xrp #bitcoin #c...\n",
              "49  RT @theKriptolik: ⚡️ ÇEKİLİŞ ⚡️\\n\\n💰10 kişiye ..."
            ],
            "text/html": [
              "\n",
              "  <div id=\"df-4a10db00-4079-4262-a8fc-f13f6d0a9f58\">\n",
              "    <div class=\"colab-df-container\">\n",
              "      <div>\n",
              "<style scoped>\n",
              "    .dataframe tbody tr th:only-of-type {\n",
              "        vertical-align: middle;\n",
              "    }\n",
              "\n",
              "    .dataframe tbody tr th {\n",
              "        vertical-align: top;\n",
              "    }\n",
              "\n",
              "    .dataframe thead th {\n",
              "        text-align: right;\n",
              "    }\n",
              "</style>\n",
              "<table border=\"1\" class=\"dataframe\">\n",
              "  <thead>\n",
              "    <tr style=\"text-align: right;\">\n",
              "      <th></th>\n",
              "      <th>0</th>\n",
              "    </tr>\n",
              "  </thead>\n",
              "  <tbody>\n",
              "    <tr>\n",
              "      <th>0</th>\n",
              "      <td>RT @Jayecane: I badly need to send 8 people mo...</td>\n",
              "    </tr>\n",
              "    <tr>\n",
              "      <th>1</th>\n",
              "      <td>RT @Jayecane: I badly need to send 8 people mo...</td>\n",
              "    </tr>\n",
              "    <tr>\n",
              "      <th>2</th>\n",
              "      <td>@MichellePhan @CashApp $RBaiZa #Bitcoin #bitco...</td>\n",
              "    </tr>\n",
              "    <tr>\n",
              "      <th>3</th>\n",
              "      <td>RT @Jayecane: I badly need to send 8 people mo...</td>\n",
              "    </tr>\n",
              "    <tr>\n",
              "      <th>4</th>\n",
              "      <td>RT @Coinimparator: #Coinimparator ve ailesi yi...</td>\n",
              "    </tr>\n",
              "    <tr>\n",
              "      <th>5</th>\n",
              "      <td>RT @Jayecane: I badly need to send 8 people mo...</td>\n",
              "    </tr>\n",
              "    <tr>\n",
              "      <th>6</th>\n",
              "      <td>Bitcoin and Gold have gone up a bit, #xrp has ...</td>\n",
              "    </tr>\n",
              "    <tr>\n",
              "      <th>7</th>\n",
              "      <td>RT @loopstarter: Take the power of the collect...</td>\n",
              "    </tr>\n",
              "    <tr>\n",
              "      <th>8</th>\n",
              "      <td>The strongest bullish signal has broken out fo...</td>\n",
              "    </tr>\n",
              "    <tr>\n",
              "      <th>9</th>\n",
              "      <td>Now that I agree with #Bitcoin you can’t chang...</td>\n",
              "    </tr>\n",
              "    <tr>\n",
              "      <th>10</th>\n",
              "      <td>@MrBigWhaleREAL @bbtc Vitteey MEXC Don't Miss ...</td>\n",
              "    </tr>\n",
              "    <tr>\n",
              "      <th>11</th>\n",
              "      <td>RT @BitcoinMagazine: NEW - U.S. Senate Candida...</td>\n",
              "    </tr>\n",
              "    <tr>\n",
              "      <th>12</th>\n",
              "      <td>@MichellePhan @CashApp $Myknikes19 #BitcoinPle...</td>\n",
              "    </tr>\n",
              "    <tr>\n",
              "      <th>13</th>\n",
              "      <td>RT @naiivememe: @saylor @SecYellen #Bitcoin ht...</td>\n",
              "    </tr>\n",
              "    <tr>\n",
              "      <th>14</th>\n",
              "      <td>RT @rovercrc: #BITCOIN TO $50,000 THIS WEEK, O...</td>\n",
              "    </tr>\n",
              "    <tr>\n",
              "      <th>15</th>\n",
              "      <td>RT @CakirbeyNusret: 💥Arkadaşlar Kar Realize Et...</td>\n",
              "    </tr>\n",
              "    <tr>\n",
              "      <th>16</th>\n",
              "      <td>RT @MitchRayTA: #ATOM \"Moon soon\" variables fu...</td>\n",
              "    </tr>\n",
              "    <tr>\n",
              "      <th>17</th>\n",
              "      <td>RT @BscPitbull: Metrics are on the moon🌙 #Pitb...</td>\n",
              "    </tr>\n",
              "    <tr>\n",
              "      <th>18</th>\n",
              "      <td>RT @healthy_pockets: Simplemente #Bitcoin \\n\\n...</td>\n",
              "    </tr>\n",
              "    <tr>\n",
              "      <th>19</th>\n",
              "      <td>@WendyRogersAZ Did you do your own research ab...</td>\n",
              "    </tr>\n",
              "    <tr>\n",
              "      <th>20</th>\n",
              "      <td>RT @stanmilc: 📲@CryptoHawkAI Long-Short: \\n\\n🚨...</td>\n",
              "    </tr>\n",
              "    <tr>\n",
              "      <th>21</th>\n",
              "      <td>RT @BBCWorld: Russia considers accepting Bitco...</td>\n",
              "    </tr>\n",
              "    <tr>\n",
              "      <th>22</th>\n",
              "      <td>@stevedabitcoin aynen abi bitcoin marsa falan ...</td>\n",
              "    </tr>\n",
              "    <tr>\n",
              "      <th>23</th>\n",
              "      <td>RT @Jayecane: I badly need to send 8 people mo...</td>\n",
              "    </tr>\n",
              "    <tr>\n",
              "      <th>24</th>\n",
              "      <td>@MichellePhan @CashApp $jennmoney17 #bitcoinpl...</td>\n",
              "    </tr>\n",
              "    <tr>\n",
              "      <th>25</th>\n",
              "      <td>RT @ksknkripto: Ayı kardeşler bi kalkın birşey...</td>\n",
              "    </tr>\n",
              "    <tr>\n",
              "      <th>26</th>\n",
              "      <td>RT @DocumentingBTC: In 8 days, the 19,000,000t...</td>\n",
              "    </tr>\n",
              "    <tr>\n",
              "      <th>27</th>\n",
              "      <td>RT @Jayecane: I badly need to send 8 people mo...</td>\n",
              "    </tr>\n",
              "    <tr>\n",
              "      <th>28</th>\n",
              "      <td>RT @DWhitmanBTC: Opt out of this giant Ponzi \\...</td>\n",
              "    </tr>\n",
              "    <tr>\n",
              "      <th>29</th>\n",
              "      <td>RT @MichellePhan: I’ve teamed up with @cashapp...</td>\n",
              "    </tr>\n",
              "    <tr>\n",
              "      <th>30</th>\n",
              "      <td>@MichellePhan @CashApp $ZynnyZyn #bitcoinpleas...</td>\n",
              "    </tr>\n",
              "    <tr>\n",
              "      <th>31</th>\n",
              "      <td>RT @MichellePhan: I’ve teamed up with @cashapp...</td>\n",
              "    </tr>\n",
              "    <tr>\n",
              "      <th>32</th>\n",
              "      <td>RT @Crypto_Airport: @CoinMarketCap Comeeee onn...</td>\n",
              "    </tr>\n",
              "    <tr>\n",
              "      <th>33</th>\n",
              "      <td>RT @Arthur_van_Pelt: BREAKING: \\n\\nBitcoin dev...</td>\n",
              "    </tr>\n",
              "    <tr>\n",
              "      <th>34</th>\n",
              "      <td>@nftjuno https://t.co/V60nwJE1nL \\n\\n#NFTCommu...</td>\n",
              "    </tr>\n",
              "    <tr>\n",
              "      <th>35</th>\n",
              "      <td>RT @portal_finance: 🔥 The #Portal project is a...</td>\n",
              "    </tr>\n",
              "    <tr>\n",
              "      <th>36</th>\n",
              "      <td>RT @CoinLejyon: #Bitcoin ile birlikte #Btc dom...</td>\n",
              "    </tr>\n",
              "    <tr>\n",
              "      <th>37</th>\n",
              "      <td>@MichellePhan @CashApp $BigBeast69 #Bitcoin #b...</td>\n",
              "    </tr>\n",
              "    <tr>\n",
              "      <th>38</th>\n",
              "      <td>RT @DenevaAni: JUST IN: Bitcoin of America has...</td>\n",
              "    </tr>\n",
              "    <tr>\n",
              "      <th>39</th>\n",
              "      <td>RT @ReiRubroNegro: @leandroruschel @elonmusk E...</td>\n",
              "    </tr>\n",
              "    <tr>\n",
              "      <th>40</th>\n",
              "      <td>RT @RicardoBSalinas: Muchas gracias por tan am...</td>\n",
              "    </tr>\n",
              "    <tr>\n",
              "      <th>41</th>\n",
              "      <td>@nypost I never thought of meeting a legit bit...</td>\n",
              "    </tr>\n",
              "    <tr>\n",
              "      <th>42</th>\n",
              "      <td>Rusya, petrol ve gaz satışını Bitcoin ile sağl...</td>\n",
              "    </tr>\n",
              "    <tr>\n",
              "      <th>43</th>\n",
              "      <td>@MichellePhan @CashApp $btejeda #bitcoinplease...</td>\n",
              "    </tr>\n",
              "    <tr>\n",
              "      <th>44</th>\n",
              "      <td>4.) You can trustlessly earn yield through sta...</td>\n",
              "    </tr>\n",
              "    <tr>\n",
              "      <th>45</th>\n",
              "      <td>RT @ramiberlin: @realSologenic @xrpstik #xSTIK...</td>\n",
              "    </tr>\n",
              "    <tr>\n",
              "      <th>46</th>\n",
              "      <td>RT @westkripto: #Stepn’den ettiğim kârı bugün ...</td>\n",
              "    </tr>\n",
              "    <tr>\n",
              "      <th>47</th>\n",
              "      <td>🤣 Canada way ahead of Russia on this one #Bitc...</td>\n",
              "    </tr>\n",
              "    <tr>\n",
              "      <th>48</th>\n",
              "      <td>Come in now and don't BE LATE #xrp #bitcoin #c...</td>\n",
              "    </tr>\n",
              "    <tr>\n",
              "      <th>49</th>\n",
              "      <td>RT @theKriptolik: ⚡️ ÇEKİLİŞ ⚡️\\n\\n💰10 kişiye ...</td>\n",
              "    </tr>\n",
              "  </tbody>\n",
              "</table>\n",
              "</div>\n",
              "      <button class=\"colab-df-convert\" onclick=\"convertToInteractive('df-4a10db00-4079-4262-a8fc-f13f6d0a9f58')\"\n",
              "              title=\"Convert this dataframe to an interactive table.\"\n",
              "              style=\"display:none;\">\n",
              "        \n",
              "  <svg xmlns=\"http://www.w3.org/2000/svg\" height=\"24px\"viewBox=\"0 0 24 24\"\n",
              "       width=\"24px\">\n",
              "    <path d=\"M0 0h24v24H0V0z\" fill=\"none\"/>\n",
              "    <path d=\"M18.56 5.44l.94 2.06.94-2.06 2.06-.94-2.06-.94-.94-2.06-.94 2.06-2.06.94zm-11 1L8.5 8.5l.94-2.06 2.06-.94-2.06-.94L8.5 2.5l-.94 2.06-2.06.94zm10 10l.94 2.06.94-2.06 2.06-.94-2.06-.94-.94-2.06-.94 2.06-2.06.94z\"/><path d=\"M17.41 7.96l-1.37-1.37c-.4-.4-.92-.59-1.43-.59-.52 0-1.04.2-1.43.59L10.3 9.45l-7.72 7.72c-.78.78-.78 2.05 0 2.83L4 21.41c.39.39.9.59 1.41.59.51 0 1.02-.2 1.41-.59l7.78-7.78 2.81-2.81c.8-.78.8-2.07 0-2.86zM5.41 20L4 18.59l7.72-7.72 1.47 1.35L5.41 20z\"/>\n",
              "  </svg>\n",
              "      </button>\n",
              "      \n",
              "  <style>\n",
              "    .colab-df-container {\n",
              "      display:flex;\n",
              "      flex-wrap:wrap;\n",
              "      gap: 12px;\n",
              "    }\n",
              "\n",
              "    .colab-df-convert {\n",
              "      background-color: #E8F0FE;\n",
              "      border: none;\n",
              "      border-radius: 50%;\n",
              "      cursor: pointer;\n",
              "      display: none;\n",
              "      fill: #1967D2;\n",
              "      height: 32px;\n",
              "      padding: 0 0 0 0;\n",
              "      width: 32px;\n",
              "    }\n",
              "\n",
              "    .colab-df-convert:hover {\n",
              "      background-color: #E2EBFA;\n",
              "      box-shadow: 0px 1px 2px rgba(60, 64, 67, 0.3), 0px 1px 3px 1px rgba(60, 64, 67, 0.15);\n",
              "      fill: #174EA6;\n",
              "    }\n",
              "\n",
              "    [theme=dark] .colab-df-convert {\n",
              "      background-color: #3B4455;\n",
              "      fill: #D2E3FC;\n",
              "    }\n",
              "\n",
              "    [theme=dark] .colab-df-convert:hover {\n",
              "      background-color: #434B5C;\n",
              "      box-shadow: 0px 1px 3px 1px rgba(0, 0, 0, 0.15);\n",
              "      filter: drop-shadow(0px 1px 2px rgba(0, 0, 0, 0.3));\n",
              "      fill: #FFFFFF;\n",
              "    }\n",
              "  </style>\n",
              "\n",
              "      <script>\n",
              "        const buttonEl =\n",
              "          document.querySelector('#df-4a10db00-4079-4262-a8fc-f13f6d0a9f58 button.colab-df-convert');\n",
              "        buttonEl.style.display =\n",
              "          google.colab.kernel.accessAllowed ? 'block' : 'none';\n",
              "\n",
              "        async function convertToInteractive(key) {\n",
              "          const element = document.querySelector('#df-4a10db00-4079-4262-a8fc-f13f6d0a9f58');\n",
              "          const dataTable =\n",
              "            await google.colab.kernel.invokeFunction('convertToInteractive',\n",
              "                                                     [key], {});\n",
              "          if (!dataTable) return;\n",
              "\n",
              "          const docLinkHtml = 'Like what you see? Visit the ' +\n",
              "            '<a target=\"_blank\" href=https://colab.research.google.com/notebooks/data_table.ipynb>data table notebook</a>'\n",
              "            + ' to learn more about interactive tables.';\n",
              "          element.innerHTML = '';\n",
              "          dataTable['output_type'] = 'display_data';\n",
              "          await google.colab.output.renderOutput(dataTable, element);\n",
              "          const docLink = document.createElement('div');\n",
              "          docLink.innerHTML = docLinkHtml;\n",
              "          element.appendChild(docLink);\n",
              "        }\n",
              "      </script>\n",
              "    </div>\n",
              "  </div>\n",
              "  "
            ]
          },
          "metadata": {},
          "execution_count": 8
        }
      ]
    },
    {
      "cell_type": "code",
      "source": [
        "api.search()"
      ],
      "metadata": {
        "colab": {
          "base_uri": "https://localhost:8080/",
          "height": 307
        },
        "id": "gd-CJXGQMrG6",
        "outputId": "3c2daf1a-da8d-4499-fdb7-edcdd9fe6775"
      },
      "execution_count": null,
      "outputs": [
        {
          "output_type": "error",
          "ename": "TweepError",
          "evalue": "ignored",
          "traceback": [
            "\u001b[0;31m---------------------------------------------------------------------------\u001b[0m",
            "\u001b[0;31mTweepError\u001b[0m                                Traceback (most recent call last)",
            "\u001b[0;32m<ipython-input-9-25a02992b3c4>\u001b[0m in \u001b[0;36m<module>\u001b[0;34m()\u001b[0m\n\u001b[0;32m----> 1\u001b[0;31m \u001b[0mapi\u001b[0m\u001b[0;34m.\u001b[0m\u001b[0msearch\u001b[0m\u001b[0;34m(\u001b[0m\u001b[0;34m)\u001b[0m\u001b[0;34m\u001b[0m\u001b[0;34m\u001b[0m\u001b[0m\n\u001b[0m",
            "\u001b[0;32m/usr/local/lib/python3.7/dist-packages/tweepy/binder.py\u001b[0m in \u001b[0;36m_call\u001b[0;34m(*args, **kwargs)\u001b[0m\n\u001b[1;32m    251\u001b[0m                 \u001b[0;32mreturn\u001b[0m \u001b[0mmethod\u001b[0m\u001b[0;34m\u001b[0m\u001b[0;34m\u001b[0m\u001b[0m\n\u001b[1;32m    252\u001b[0m             \u001b[0;32melse\u001b[0m\u001b[0;34m:\u001b[0m\u001b[0;34m\u001b[0m\u001b[0;34m\u001b[0m\u001b[0m\n\u001b[0;32m--> 253\u001b[0;31m                 \u001b[0;32mreturn\u001b[0m \u001b[0mmethod\u001b[0m\u001b[0;34m.\u001b[0m\u001b[0mexecute\u001b[0m\u001b[0;34m(\u001b[0m\u001b[0;34m)\u001b[0m\u001b[0;34m\u001b[0m\u001b[0;34m\u001b[0m\u001b[0m\n\u001b[0m\u001b[1;32m    254\u001b[0m         \u001b[0;32mfinally\u001b[0m\u001b[0;34m:\u001b[0m\u001b[0;34m\u001b[0m\u001b[0;34m\u001b[0m\u001b[0m\n\u001b[1;32m    255\u001b[0m             \u001b[0mmethod\u001b[0m\u001b[0;34m.\u001b[0m\u001b[0msession\u001b[0m\u001b[0;34m.\u001b[0m\u001b[0mclose\u001b[0m\u001b[0;34m(\u001b[0m\u001b[0;34m)\u001b[0m\u001b[0;34m\u001b[0m\u001b[0;34m\u001b[0m\u001b[0m\n",
            "\u001b[0;32m/usr/local/lib/python3.7/dist-packages/tweepy/binder.py\u001b[0m in \u001b[0;36mexecute\u001b[0;34m(self)\u001b[0m\n\u001b[1;32m    232\u001b[0m                     \u001b[0;32mraise\u001b[0m \u001b[0mRateLimitError\u001b[0m\u001b[0;34m(\u001b[0m\u001b[0merror_msg\u001b[0m\u001b[0;34m,\u001b[0m \u001b[0mresp\u001b[0m\u001b[0;34m)\u001b[0m\u001b[0;34m\u001b[0m\u001b[0;34m\u001b[0m\u001b[0m\n\u001b[1;32m    233\u001b[0m                 \u001b[0;32melse\u001b[0m\u001b[0;34m:\u001b[0m\u001b[0;34m\u001b[0m\u001b[0;34m\u001b[0m\u001b[0m\n\u001b[0;32m--> 234\u001b[0;31m                     \u001b[0;32mraise\u001b[0m \u001b[0mTweepError\u001b[0m\u001b[0;34m(\u001b[0m\u001b[0merror_msg\u001b[0m\u001b[0;34m,\u001b[0m \u001b[0mresp\u001b[0m\u001b[0;34m,\u001b[0m \u001b[0mapi_code\u001b[0m\u001b[0;34m=\u001b[0m\u001b[0mapi_error_code\u001b[0m\u001b[0;34m)\u001b[0m\u001b[0;34m\u001b[0m\u001b[0;34m\u001b[0m\u001b[0m\n\u001b[0m\u001b[1;32m    235\u001b[0m \u001b[0;34m\u001b[0m\u001b[0m\n\u001b[1;32m    236\u001b[0m             \u001b[0;31m# Parse the response payload\u001b[0m\u001b[0;34m\u001b[0m\u001b[0;34m\u001b[0m\u001b[0;34m\u001b[0m\u001b[0m\n",
            "\u001b[0;31mTweepError\u001b[0m: [{'code': 25, 'message': 'Query parameters are missing.'}]"
          ]
        }
      ]
    },
    {
      "cell_type": "code",
      "source": [
        "for tweet in tweets:\n",
        " print(tweet.text)"
      ],
      "metadata": {
        "colab": {
          "base_uri": "https://localhost:8080/"
        },
        "id": "ncrVXTLSJyiA",
        "outputId": "42ecd6fa-e115-4315-a124-8182dea394a0"
      },
      "execution_count": null,
      "outputs": [
        {
          "output_type": "stream",
          "name": "stdout",
          "text": [
            "RT @PolandYielder: TUSD is coming to Yield App🚀🚀🚀💎💎💎\n",
            "Earn up to 14% p.a. 💪💪💪🪙🪙🪙📈📈📈\n",
            "https://t.co/F1OBcHuym3\n",
            "@YieldApp @YieldAppPoland #yield…\n",
            "RT @Stray_cats_BSV: #StrayCats =\n",
            "@Biarritz82 +\n",
            "@LCarrion80 aka @BlogueroDigital;\n",
            "quienes además\n",
            "de compartir vida, compartimos\n",
            "pasiones com…\n",
            "RT @ParaBorsaCrypto: Endeksler ve #Bitcoin 'de hareketlilik başladı.\n",
            "RT @AirDropTR_EN: 🔥HEDIYE  ZAMANI 🌟\n",
            "\n",
            "3 KİŞİYE 250'₺ TOPLAM 750'₺\n",
            "\n",
            " RT yap\n",
            "\n",
            "Takip et\n",
            "\n",
            "Süre Cumartesi 21.00 ⏳kadar\n",
            "\n",
            "Bol şans dostlar.\n",
            "\n",
            "#BTC …\n",
            "RT @gladstein: “Decentralizing both finance and the internet would offer a long-overdue counterweight to the very concentrated power and we…\n",
            "RT @LeCoinBit: Instead of predicting, try ENGAGING.\n",
            "\n",
            "The world is depressing when you’re not part of it. Try person… https://t.co/Ynv4zxHwf6\n",
            "RT @zam_zach711: ALL PRICES ARE BACK TO $50.00 STARTING TODAY (MARCH 10-)!\n",
            "#GospelMusic #BTC #crytocurrency #Coinbase #cashapp #ETH #Crypto…\n",
            "🇺🇸 USD: $40,826\n",
            "🇪🇺 EUR: €36,689 \n",
            "🇬🇧 GBP: £30,976\n",
            "🇨🇦 CAD: $51,605\n",
            "🇦🇺 AUD: $55,365\n",
            "🇯🇵 JPY:  ¥4,839,844\n",
            "\n",
            " #Bitcoin #BTC\n",
            "This book on #Bitcoin  by our friend and human right activist \n",
            "\n",
            "Can’t wait to read it. \n",
            "Get your copy now 👇… https://t.co/aA4A3GMrYM\n",
            "@Cointelegraph @Metamoonft 🚀🚀🚀\n",
            "#metamoonnft #Metaverse #NFTs #BSCGem #BinanceSmartChain #Binance  #bitcoin  #ETH\n",
            "\n",
            "https://t.co/6aOurTwhkB\n",
            "RT @Cryptohelinn: 1 kişiye bu değerli nft' yi hediye ediyorum.\n",
            "\n",
            "Değeri 40$ ile 100$ arasında\n",
            "\n",
            "🎁  Bu paylaşımı beğen❤\n",
            "\n",
            "🎁 @cryptohelinn hesab…\n",
            "RT @KriptoErdems: RT yapan ve bizi takip eden 5 kişiye 100$ verelim..\n",
            "\n",
            "150 RT olduğu gibi açıklıyorum, yeni gelmedik geri geldik!\n",
            "\n",
            "#bitcoin…\n",
            "RT @CryptoDogg7: Toplam 100 TL Nakit ! \n",
            "2 kişiye 50 + 50 olacak şekilde.\n",
            "👉 Like ❤️👈\n",
            "👉 RT ♻️ 👈\n",
            "👉 Takip 👈\n",
            "Çekiliş sonuç tarihi  👉 18.03.2022…\n",
            "RT @Cryptohelinn: 1 kişiye bu değerli nft' yi hediye ediyorum.\n",
            "\n",
            "Değeri 40$ ile 100$ arasında\n",
            "\n",
            "🎁  Bu paylaşımı beğen❤\n",
            "\n",
            "🎁 @cryptohelinn hesab…\n",
            "https://t.co/p9uxg4dovB\n",
            "Mining bitcoin\n",
            "@obs_bitcoin @ChaincodeLabs I’m not turning any off, just playing with under/over clocking while I collect data on battery bank.\n",
            "Satoshi Nakamoto is the creator of Bitcoin. #BitcoinButton #Binance https://t.co/rMVi3KOTBZ\n",
            "RT @realSologenic: We are thrilled to announce that the Sologenic team will be participating in Miami’s #Bitcoin Month!\n",
            "\n",
            "The team will be a…\n",
            "The economic cycle designed by Bitcoin is closer to the US government's dollar monetary policy, which is also basic… https://t.co/9GY3CZCbIt\n",
            "Bitcoin Discussion https://t.co/kWaLWH6nz8\n",
            "RT @Negentropic_: #Bitcoin 's fundamentals show resilience in a charged macro environment as long-term holders accumulate,\n",
            "and capital is m…\n",
            "RT @PolandYielder: The mobile application for @YieldApp  has just started testing! 💪💎🚀💪💎🚀💪💎🚀\n",
            "\n",
            "Bank in your pocket - literally! 💎💪🚀\n",
            "\n",
            "https:/…\n",
            "RT @BitcoinMagazine: \"We need #bitcoin to be legal tender in Mexico.\" - Mexican senator 🇲🇽 https://t.co/2uY225IcrZ\n",
            "@BillyM2k https://t.co/gcRIMIvQin #PolygonNFTs #altcoin #art #SOL #dogecoin #DogecoinArmy #Polygon #Crypto… https://t.co/Dx5t7fOT7S\n",
            "RT @BitcoinMagazine: Senator Pat Toomey to the senate: Ukraine has actively been using #bitcoin and crypto to do tremendous good. 🇺🇦 https:…\n",
            "RT @BitcoinMagazine: Senator Pat Toomey to the senate: Ukraine has actively been using #bitcoin and crypto to do tremendous good. 🇺🇦 https:…\n",
            "RT @CryptoLopez5: El futuro #Bitcoin  ha llegado  #BitcoinButton and #Binance https://t.co/4Se20MHSBP\n",
            "RT @blocktrainer: Wie Proof of Work bzw. #Bitcoin Mining technisch funktioniert, erklärt euch der liebe Danny von @OrangeRelation auf dem #…\n",
            "RT @Dennis_Porter_: Time to call your elected officials to oppose the anti-Bitcoin bill that @ewarren introduced this morning!\n",
            "\n",
            "Use the lin…\n",
            "HSBC banned the purchase of 'risky' crypto for ordinary account holders in the UK last year to 'protect them'… https://t.co/2QK4dLGGjg\n",
            "RT @Negentropic_: #Bitcoin 's fundamentals show resilience in a charged macro environment as long-term holders accumulate,\n",
            "and capital is m…\n",
            "#DeFi #TeleFy #DEX #cryptocurrency #Ethereum #BinanceSmartChain #Bitcoin \n",
            "#Airdrop #Polkadot #MATIC $TELE #Cardano… https://t.co/XjVmp5pRJQ\n",
            "@binance @apecoin @Metamoonft 🚀🚀🚀\n",
            "#metamoonnft #Metaverse #NFTs #BSCGem #BinanceSmartChain #Binance  #bitcoin  #ETH\n",
            "\n",
            "https://t.co/6aOurTwhkB\n",
            "@Elypse2021 https://t.co/gcRIMIvQin #PolygonNFTs #altcoin #art #SOL #dogecoin #DogecoinArmy #Polygon #Crypto… https://t.co/6whL6uIEJF\n",
            "@PeterSchiff Sell some #Bitcoin Peter! Or you can stake some Mad Meerkats and pay for the studio from the yield https://t.co/3q61sIBnuv\n",
            "Mirror World how to use AI + GameFi to create Web3 nintendo?… https://t.co/421o5B6yki\n",
            "@MoonOverlord nah. bitcoin cash\n",
            "RT @TurkishGiveaway: Yeni Çekiliş 🎉\n",
            "Ülkemiz Adına Önemli Bir Maça Çıkacak Olan Galatasaray Kazanırsa Bir Arkadaşımıza 250 TL Değerinde #GAL…\n",
            "RT @BitcoinMagazine: Senator Pat Toomey to the senate: Ukraine has actively been using #bitcoin and crypto to do tremendous good. 🇺🇦 https:…\n",
            "RT @blocktrainer: Wie Proof of Work bzw. #Bitcoin Mining technisch funktioniert, erklärt euch der liebe Danny von @OrangeRelation auf dem #…\n",
            "GMT/USDT SHORT 🛑\n",
            "Leverage 20x\n",
            "Entries 0.720\n",
            "Target 1 0.709\n",
            "Target 2 0.691\n",
            "Target 3 0.666\n",
            "Target 4 0.600\n",
            "Target 5 0.… https://t.co/4Qkn0SbM0u\n",
            "@TrustNodes https://t.co/q5jnJYSiRN\n",
            "If you still trying to decide to buy #Bitcoin. Do it today. Do it now.\n",
            "RT @Dennis_Porter_: Time to call your elected officials to oppose the anti-Bitcoin bill that @ewarren introduced this morning!\n",
            "\n",
            "Use the lin…\n",
            "#talks\n",
            "\n",
            "👑johnny\n",
            "CryptoGodJohn:\n",
            "If we can clear this level I am expecting a move towards .075\n",
            "Telegram Channel = Cry… https://t.co/ywJjg5eqSH\n",
            "@SenDuckworth You need an opinion on #bitcoin. Please do not let Illinois lose out again to other states which embr… https://t.co/1rKQZMnbrZ\n",
            "@_NFTsArt @cybotz_nft https://t.co/gcRIMIvQin #PolygonNFTs #altcoin #art #SOL #dogecoin #DogecoinArmy #Polygon… https://t.co/zUe5tXqQhi\n",
            "RT @MatthewHyland_: #Bitcoin Weekly MACD Bull cross is looming: https://t.co/dPXviNWb1A\n",
            "17.03.2022|https://t.co/IULzdDGMJD: IQ Labs CEO Tom Tirman on Unlocking Utility for NTFs With Collateral-Less Renti… https://t.co/bw7uXp8V8A\n",
            "RT @MartyBent: Rabbit Hole Recap rip 191 is live! @ODELL and I are back in person in the Bitcoin Commons discussing data leaks, chain surve…\n"
          ]
        }
      ]
    }
  ]
}